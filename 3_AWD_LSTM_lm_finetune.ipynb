{
 "cells": [
  {
   "cell_type": "markdown",
   "metadata": {},
   "source": [
    "# Language Model Finetuning\n",
    "\n",
    "Finetune the pretrained AWD LSTM Language Model on the competition Q&A data. Because we are finetuning the LM, we can use all of the competition data, both the train and test set.\n",
    "\n",
    "## Encoder extraction\n",
    "The encoder can be extracted from the LM using `learn.save_encoder()` or else with the following code:\n",
    "```\n",
    "file = f'quest_lm_stg2_20e_ffc_5e-3_enc_{date.today()}'\n",
    "encoder = get_model(lm_learn.model)[0]\n",
    "if hasattr(encoder, 'module'): encoder = encoder.module\n",
    "torch.save(encoder.state_dict(), join_path_file(file,my_model_path, ext='.pth'))\n",
    "```"
   ]
  },
  {
   "cell_type": "code",
   "execution_count": 1,
   "metadata": {},
   "outputs": [],
   "source": [
    "%reload_ext autoreload\n",
    "%autoreload 2\n",
    "\n",
    "from fastai2.basics import *\n",
    "from fastai2.text.all import *\n",
    "from fastai2.callback.all import *\n",
    "import gc\n",
    "from datetime import date\n",
    "\n",
    "from tqdm import tqdm"
   ]
  },
  {
   "cell_type": "markdown",
   "metadata": {},
   "source": [
    "# Load data"
   ]
  },
  {
   "cell_type": "code",
   "execution_count": 2,
   "metadata": {},
   "outputs": [],
   "source": [
    "import sys  \n",
    "sys.path.insert(0, '/home/morgan/ml')\n",
    "quest_trn = pd.read_csv('/home/morgan/ml/data/google-quest-challenge/train.csv')\n",
    "quest_tst = pd.read_csv('/home/morgan/ml/data/google-quest-challenge/test.csv')"
   ]
  },
  {
   "cell_type": "markdown",
   "metadata": {},
   "source": [
    "Load pretrained weights and vocab"
   ]
  },
  {
   "cell_type": "code",
   "execution_count": 3,
   "metadata": {},
   "outputs": [],
   "source": [
    "with open(f'/home/morgan/ml/projects/kaggle_google_quest/lm_large_7e_2e-3_ffc_2020-02-08_vocab', 'rb') as f:\n",
    "    lm_vocab = pickle.load(f)"
   ]
  },
  {
   "cell_type": "markdown",
   "metadata": {},
   "source": [
    "### Inspect trn data"
   ]
  },
  {
   "cell_type": "code",
   "execution_count": 4,
   "metadata": {},
   "outputs": [
    {
     "data": {
      "text/plain": [
       "Index(['question_asker_intent_understanding', 'question_body_critical',\n",
       "       'question_conversational', 'question_expect_short_answer',\n",
       "       'question_fact_seeking', 'question_has_commonly_accepted_answer',\n",
       "       'question_interestingness_others', 'question_interestingness_self',\n",
       "       'question_multi_intent', 'question_not_really_a_question',\n",
       "       'question_opinion_seeking', 'question_type_choice',\n",
       "       'question_type_compare', 'question_type_consequence',\n",
       "       'question_type_definition', 'question_type_entity',\n",
       "       'question_type_instructions', 'question_type_procedure',\n",
       "       'question_type_reason_explanation', 'question_type_spelling',\n",
       "       'question_well_written', 'answer_helpful',\n",
       "       'answer_level_of_information', 'answer_plausible', 'answer_relevance',\n",
       "       'answer_satisfaction', 'answer_type_instructions',\n",
       "       'answer_type_procedure', 'answer_type_reason_explanation',\n",
       "       'answer_well_written'],\n",
       "      dtype='object')"
      ]
     },
     "execution_count": 4,
     "metadata": {},
     "output_type": "execute_result"
    }
   ],
   "source": [
    "label_cols = quest_trn.columns[-30:]\n",
    "label_cols"
   ]
  },
  {
   "cell_type": "code",
   "execution_count": 5,
   "metadata": {},
   "outputs": [
    {
     "data": {
      "text/html": [
       "<div>\n",
       "<style scoped>\n",
       "    .dataframe tbody tr th:only-of-type {\n",
       "        vertical-align: middle;\n",
       "    }\n",
       "\n",
       "    .dataframe tbody tr th {\n",
       "        vertical-align: top;\n",
       "    }\n",
       "\n",
       "    .dataframe thead th {\n",
       "        text-align: right;\n",
       "    }\n",
       "</style>\n",
       "<table border=\"1\" class=\"dataframe\">\n",
       "  <thead>\n",
       "    <tr style=\"text-align: right;\">\n",
       "      <th></th>\n",
       "      <th>qa_id</th>\n",
       "      <th>question_title</th>\n",
       "      <th>question_body</th>\n",
       "      <th>question_user_name</th>\n",
       "      <th>question_user_page</th>\n",
       "      <th>answer</th>\n",
       "      <th>answer_user_name</th>\n",
       "      <th>answer_user_page</th>\n",
       "      <th>url</th>\n",
       "      <th>category</th>\n",
       "      <th>...</th>\n",
       "      <th>question_well_written</th>\n",
       "      <th>answer_helpful</th>\n",
       "      <th>answer_level_of_information</th>\n",
       "      <th>answer_plausible</th>\n",
       "      <th>answer_relevance</th>\n",
       "      <th>answer_satisfaction</th>\n",
       "      <th>answer_type_instructions</th>\n",
       "      <th>answer_type_procedure</th>\n",
       "      <th>answer_type_reason_explanation</th>\n",
       "      <th>answer_well_written</th>\n",
       "    </tr>\n",
       "  </thead>\n",
       "  <tbody>\n",
       "    <tr>\n",
       "      <th>0</th>\n",
       "      <td>0</td>\n",
       "      <td>What am I losing when using extension tubes instead of a macro lens?</td>\n",
       "      <td>After playing around with macro photography on-the-cheap (read: reversed lens, rev. lens mounted on a straight lens, passive extension tubes), I would like to get further with this. The problems with the techniques I used is that focus is manual and aperture control is problematic at best. This limited my setup to still subjects (read: dead insects) Now, as spring is approaching, I want to be able to shoot live insects. I believe that for this, autofocus and settable aperture will be of great help.\\n\\nSo, one obvious but expensive option is a macro lens (say, EF 100mm Macro) However, I am ...</td>\n",
       "      <td>ysap</td>\n",
       "      <td>https://photo.stackexchange.com/users/1024</td>\n",
       "      <td>I just got extension tubes, so here's the skinny.\\n\\n\\n  ...what am I losing when using tubes...?\\n\\n\\nA very considerable amount of light!  Increasing that distance from the end of the lens to the sensor can cut your light several stops.  Combined with the fact that you'll usually shoot stopped down - expect to need to increase your ISO considerably.\\n\\nThe fact the macro's are usually considered very very sharp, although I believe that 70-200mm 2.8 is supposed to be quite sharp.\\n\\nThe ultra low distortion typical of many macros.\\n\\nI wouldn't worry too much about the bokeh since the DOF...</td>\n",
       "      <td>rfusca</td>\n",
       "      <td>https://photo.stackexchange.com/users/1917</td>\n",
       "      <td>http://photo.stackexchange.com/questions/9169/what-am-i-losing-when-using-extension-tubes-instead-of-a-macro-lens</td>\n",
       "      <td>LIFE_ARTS</td>\n",
       "      <td>...</td>\n",
       "      <td>1.000000</td>\n",
       "      <td>1.000000</td>\n",
       "      <td>0.666667</td>\n",
       "      <td>1.000000</td>\n",
       "      <td>1.000000</td>\n",
       "      <td>0.800000</td>\n",
       "      <td>1.0</td>\n",
       "      <td>0.000000</td>\n",
       "      <td>0.000000</td>\n",
       "      <td>1.000000</td>\n",
       "    </tr>\n",
       "    <tr>\n",
       "      <th>1</th>\n",
       "      <td>1</td>\n",
       "      <td>What is the distinction between a city and a sprawl/metroplex... between downtown and a commercial district?</td>\n",
       "      <td>I am trying to understand what kinds of places the spam values on p 231 refer to in the 5th Edition main book for Shadowrun.\\n\\nPer p 15, a sprawl is a plex, a plex is a \"metropolitan complex, short for metroplex\". Per Google a metroplex is \" a very large metropolitan area, especially one that is an aggregation of two or more cities\".  A city downtown and sprawl downtown would tend to have similar densities, but for some reason the sprawl (which includes suburbs?) has a higher spam zone noise rating (p 231).  Similarly, I'd think of a downtown as being more dense and noisy (e.g. Office bui...</td>\n",
       "      <td>russellpierce</td>\n",
       "      <td>https://rpg.stackexchange.com/users/8774</td>\n",
       "      <td>It might be helpful to look into the definition of spam zone:\\n\\n(p.216) spam zone: An area flooded with invasive and/or viral AR advertising, causing noise.\\n\\nBecause a metroplex has so many marketing targets, it seems a safe assumption that marketers would drown the plex with spam. Spam from the less dense areas would bleed into the urban cores. A smaller city with less urban/suburban territory surrounding it ostensibly wouldn't have as much spam.\\n</td>\n",
       "      <td>Erik Schmidt</td>\n",
       "      <td>https://rpg.stackexchange.com/users/1871</td>\n",
       "      <td>http://rpg.stackexchange.com/questions/47820/what-is-the-distinction-between-a-city-and-a-sprawl-metroplex-between-downtow</td>\n",
       "      <td>CULTURE</td>\n",
       "      <td>...</td>\n",
       "      <td>0.888889</td>\n",
       "      <td>0.888889</td>\n",
       "      <td>0.555556</td>\n",
       "      <td>0.888889</td>\n",
       "      <td>0.888889</td>\n",
       "      <td>0.666667</td>\n",
       "      <td>0.0</td>\n",
       "      <td>0.000000</td>\n",
       "      <td>0.666667</td>\n",
       "      <td>0.888889</td>\n",
       "    </tr>\n",
       "    <tr>\n",
       "      <th>2</th>\n",
       "      <td>2</td>\n",
       "      <td>Maximum protusion length for through-hole component pins</td>\n",
       "      <td>I'm working on a PCB that has through-hole components on both sides of the board. The \"top\" side of the board is mounted flush to a Delrin plastic block (the only top-side component is a gas sensor that is fed air samples through hose fittings in the plastic block).\\n\\nThe flush mounting means that I have to add grooves to the plastic block to accommodate the soldered pins of the bottom-side components. Assuming a standard 0.062\" thickness FR4 board, how deep do I need to make the grooves in the plastic block? The only thing I could find is this NASA workmanship standard that states 0.5mm ...</td>\n",
       "      <td>Joe Baker</td>\n",
       "      <td>https://electronics.stackexchange.com/users/10157</td>\n",
       "      <td>Do you even need grooves?  We make several products using through-hole components that are intended to mount using VHB double-sided foam tape.  The boards are 0.062\" thick double-sided with PTH and we use a table-top vertical belt sander to bring the component leads almost flush with the solder mask.  In other words, the solder mask isn't touched by the sand paper but the leads are all sanded flat and sitting just proud of the solder mask.\\n\\nThis works well for small boards.\\n\\nFor what it's worth, there are commercial machines available that use a rotary saw blade to do the same thing.  ...</td>\n",
       "      <td>Dwayne Reid</td>\n",
       "      <td>https://electronics.stackexchange.com/users/64754</td>\n",
       "      <td>http://electronics.stackexchange.com/questions/154225/maximum-protusion-length-for-through-hole-component-pins</td>\n",
       "      <td>SCIENCE</td>\n",
       "      <td>...</td>\n",
       "      <td>0.777778</td>\n",
       "      <td>0.777778</td>\n",
       "      <td>0.555556</td>\n",
       "      <td>1.000000</td>\n",
       "      <td>1.000000</td>\n",
       "      <td>0.666667</td>\n",
       "      <td>0.0</td>\n",
       "      <td>0.333333</td>\n",
       "      <td>1.000000</td>\n",
       "      <td>0.888889</td>\n",
       "    </tr>\n",
       "    <tr>\n",
       "      <th>3</th>\n",
       "      <td>3</td>\n",
       "      <td>Can an affidavit be used in Beit Din?</td>\n",
       "      <td>An affidavit, from what i understand, is basically a signed document given by a witness to be used as evidence in a trial, without the witness themselves needing to take a stand.\\n\\nCan an affidavit be used in Beit Din? Or must witnesses take the stand in person for their testimony to count?\\n\\n(In case i'm misunderstanding what exactly an affidavit is, simply treat it as a signed document by a witness with their testimony.)\\n</td>\n",
       "      <td>Scimonster</td>\n",
       "      <td>https://judaism.stackexchange.com/users/5151</td>\n",
       "      <td>Sending an \"affidavit\" it is a dispute between Rashi and Rabbeinu Tam.\\n\\nDevarim 19:15:\\n\\n\\n  לא יקום עד אחד באיש לכל עון ולכל חטאת בכל חטא אשר יחטא על פי שני עדים או על פי שלשה עדים יקום דבר\\n\\n\\nRashi:\\n\\n\\n  ולא שיכתבו עדותם באגרת וישלחו לבית דין\\n  \\n  And not that they write their testimony in a letter and send it to Beis Din\\n\\n\\nTosefos Bava Basra 40a (continued from 39b):\\n\\n\\n  ועוד אומר ר\"י ששמע מן ר\"ת שנוהגים לשלח העדים עדותם באיגרת לב\"ד וחשיב עדות והא דדרשינן בספרי. מפיהם ולא מפי כתבם לא אתא אלא למעוטי דוקא אלם שאינו בר הגדה אבל ראוי להגדה אין הגדה מעכבת בו \\n  \\n  R\"i said t...</td>\n",
       "      <td>Y     e     z</td>\n",
       "      <td>https://judaism.stackexchange.com/users/4794</td>\n",
       "      <td>http://judaism.stackexchange.com/questions/55182/can-an-affidavit-be-used-in-beit-din</td>\n",
       "      <td>CULTURE</td>\n",
       "      <td>...</td>\n",
       "      <td>0.888889</td>\n",
       "      <td>0.833333</td>\n",
       "      <td>0.333333</td>\n",
       "      <td>0.833333</td>\n",
       "      <td>1.000000</td>\n",
       "      <td>0.800000</td>\n",
       "      <td>0.0</td>\n",
       "      <td>0.000000</td>\n",
       "      <td>1.000000</td>\n",
       "      <td>1.000000</td>\n",
       "    </tr>\n",
       "    <tr>\n",
       "      <th>4</th>\n",
       "      <td>5</td>\n",
       "      <td>How do you make a binary image in Photoshop?</td>\n",
       "      <td>I am trying to make a binary image. I want more than just the look of the image to be black/white, but I want the actual file to be a binary file. Every pixel should be either black, or white. \\n\\nI don't just want a monochrome image. I can't have varying shades of gray, every pixel needs to be black or white.\\n\\nIs this possible? I looked under Image &gt; Mode but nothing there seems to indiciate a binary style image.\\n</td>\n",
       "      <td>leigero</td>\n",
       "      <td>https://graphicdesign.stackexchange.com/users/21313</td>\n",
       "      <td>Check out Image Trace in Adobe Illustrator. \\n\\nI like using python and PIL, however.\\n\\nfrom PIL import Image\\nimage_file = Image.open(\"myimage.bmp\") \\nimage_file = image_file.convert('1') # convert\\nimage_file.save('result.bmp')\\n\\n</td>\n",
       "      <td>q2ra</td>\n",
       "      <td>https://graphicdesign.stackexchange.com/users/27160</td>\n",
       "      <td>http://graphicdesign.stackexchange.com/questions/35791/how-do-you-make-a-binary-image-in-photoshop</td>\n",
       "      <td>LIFE_ARTS</td>\n",
       "      <td>...</td>\n",
       "      <td>1.000000</td>\n",
       "      <td>1.000000</td>\n",
       "      <td>0.666667</td>\n",
       "      <td>1.000000</td>\n",
       "      <td>1.000000</td>\n",
       "      <td>0.800000</td>\n",
       "      <td>1.0</td>\n",
       "      <td>0.000000</td>\n",
       "      <td>1.000000</td>\n",
       "      <td>1.000000</td>\n",
       "    </tr>\n",
       "  </tbody>\n",
       "</table>\n",
       "<p>5 rows × 41 columns</p>\n",
       "</div>"
      ],
      "text/plain": [
       "   qa_id  \\\n",
       "0      0   \n",
       "1      1   \n",
       "2      2   \n",
       "3      3   \n",
       "4      5   \n",
       "\n",
       "                                                                                                 question_title  \\\n",
       "0                                          What am I losing when using extension tubes instead of a macro lens?   \n",
       "1  What is the distinction between a city and a sprawl/metroplex... between downtown and a commercial district?   \n",
       "2                                                      Maximum protusion length for through-hole component pins   \n",
       "3                                                                         Can an affidavit be used in Beit Din?   \n",
       "4                                                                  How do you make a binary image in Photoshop?   \n",
       "\n",
       "                                                                                                                                                                                                                                                                                                                                                                                                                                                                                                                                                                                                             question_body  \\\n",
       "0  After playing around with macro photography on-the-cheap (read: reversed lens, rev. lens mounted on a straight lens, passive extension tubes), I would like to get further with this. The problems with the techniques I used is that focus is manual and aperture control is problematic at best. This limited my setup to still subjects (read: dead insects) Now, as spring is approaching, I want to be able to shoot live insects. I believe that for this, autofocus and settable aperture will be of great help.\\n\\nSo, one obvious but expensive option is a macro lens (say, EF 100mm Macro) However, I am ...   \n",
       "1  I am trying to understand what kinds of places the spam values on p 231 refer to in the 5th Edition main book for Shadowrun.\\n\\nPer p 15, a sprawl is a plex, a plex is a \"metropolitan complex, short for metroplex\". Per Google a metroplex is \" a very large metropolitan area, especially one that is an aggregation of two or more cities\".  A city downtown and sprawl downtown would tend to have similar densities, but for some reason the sprawl (which includes suburbs?) has a higher spam zone noise rating (p 231).  Similarly, I'd think of a downtown as being more dense and noisy (e.g. Office bui...   \n",
       "2  I'm working on a PCB that has through-hole components on both sides of the board. The \"top\" side of the board is mounted flush to a Delrin plastic block (the only top-side component is a gas sensor that is fed air samples through hose fittings in the plastic block).\\n\\nThe flush mounting means that I have to add grooves to the plastic block to accommodate the soldered pins of the bottom-side components. Assuming a standard 0.062\" thickness FR4 board, how deep do I need to make the grooves in the plastic block? The only thing I could find is this NASA workmanship standard that states 0.5mm ...   \n",
       "3                                                                                                                                                                           An affidavit, from what i understand, is basically a signed document given by a witness to be used as evidence in a trial, without the witness themselves needing to take a stand.\\n\\nCan an affidavit be used in Beit Din? Or must witnesses take the stand in person for their testimony to count?\\n\\n(In case i'm misunderstanding what exactly an affidavit is, simply treat it as a signed document by a witness with their testimony.)\\n   \n",
       "4                                                                                                                                                                                    I am trying to make a binary image. I want more than just the look of the image to be black/white, but I want the actual file to be a binary file. Every pixel should be either black, or white. \\n\\nI don't just want a monochrome image. I can't have varying shades of gray, every pixel needs to be black or white.\\n\\nIs this possible? I looked under Image > Mode but nothing there seems to indiciate a binary style image.\\n   \n",
       "\n",
       "  question_user_name                                   question_user_page  \\\n",
       "0               ysap           https://photo.stackexchange.com/users/1024   \n",
       "1      russellpierce             https://rpg.stackexchange.com/users/8774   \n",
       "2          Joe Baker    https://electronics.stackexchange.com/users/10157   \n",
       "3         Scimonster         https://judaism.stackexchange.com/users/5151   \n",
       "4            leigero  https://graphicdesign.stackexchange.com/users/21313   \n",
       "\n",
       "                                                                                                                                                                                                                                                                                                                                                                                                                                                                                                                                                                                                                    answer  \\\n",
       "0  I just got extension tubes, so here's the skinny.\\n\\n\\n  ...what am I losing when using tubes...?\\n\\n\\nA very considerable amount of light!  Increasing that distance from the end of the lens to the sensor can cut your light several stops.  Combined with the fact that you'll usually shoot stopped down - expect to need to increase your ISO considerably.\\n\\nThe fact the macro's are usually considered very very sharp, although I believe that 70-200mm 2.8 is supposed to be quite sharp.\\n\\nThe ultra low distortion typical of many macros.\\n\\nI wouldn't worry too much about the bokeh since the DOF...   \n",
       "1                                                                                                                                                 It might be helpful to look into the definition of spam zone:\\n\\n(p.216) spam zone: An area flooded with invasive and/or viral AR advertising, causing noise.\\n\\nBecause a metroplex has so many marketing targets, it seems a safe assumption that marketers would drown the plex with spam. Spam from the less dense areas would bleed into the urban cores. A smaller city with less urban/suburban territory surrounding it ostensibly wouldn't have as much spam.\\n   \n",
       "2  Do you even need grooves?  We make several products using through-hole components that are intended to mount using VHB double-sided foam tape.  The boards are 0.062\" thick double-sided with PTH and we use a table-top vertical belt sander to bring the component leads almost flush with the solder mask.  In other words, the solder mask isn't touched by the sand paper but the leads are all sanded flat and sitting just proud of the solder mask.\\n\\nThis works well for small boards.\\n\\nFor what it's worth, there are commercial machines available that use a rotary saw blade to do the same thing.  ...   \n",
       "3  Sending an \"affidavit\" it is a dispute between Rashi and Rabbeinu Tam.\\n\\nDevarim 19:15:\\n\\n\\n  לא יקום עד אחד באיש לכל עון ולכל חטאת בכל חטא אשר יחטא על פי שני עדים או על פי שלשה עדים יקום דבר\\n\\n\\nRashi:\\n\\n\\n  ולא שיכתבו עדותם באגרת וישלחו לבית דין\\n  \\n  And not that they write their testimony in a letter and send it to Beis Din\\n\\n\\nTosefos Bava Basra 40a (continued from 39b):\\n\\n\\n  ועוד אומר ר\"י ששמע מן ר\"ת שנוהגים לשלח העדים עדותם באיגרת לב\"ד וחשיב עדות והא דדרשינן בספרי. מפיהם ולא מפי כתבם לא אתא אלא למעוטי דוקא אלם שאינו בר הגדה אבל ראוי להגדה אין הגדה מעכבת בו \\n  \\n  R\"i said t...   \n",
       "4                                                                                                                                                                                                                                                                                                                                                                               Check out Image Trace in Adobe Illustrator. \\n\\nI like using python and PIL, however.\\n\\nfrom PIL import Image\\nimage_file = Image.open(\"myimage.bmp\") \\nimage_file = image_file.convert('1') # convert\\nimage_file.save('result.bmp')\\n\\n   \n",
       "\n",
       "  answer_user_name                                     answer_user_page  \\\n",
       "0           rfusca           https://photo.stackexchange.com/users/1917   \n",
       "1     Erik Schmidt             https://rpg.stackexchange.com/users/1871   \n",
       "2      Dwayne Reid    https://electronics.stackexchange.com/users/64754   \n",
       "3    Y     e     z         https://judaism.stackexchange.com/users/4794   \n",
       "4             q2ra  https://graphicdesign.stackexchange.com/users/27160   \n",
       "\n",
       "                                                                                                                          url  \\\n",
       "0           http://photo.stackexchange.com/questions/9169/what-am-i-losing-when-using-extension-tubes-instead-of-a-macro-lens   \n",
       "1  http://rpg.stackexchange.com/questions/47820/what-is-the-distinction-between-a-city-and-a-sprawl-metroplex-between-downtow   \n",
       "2              http://electronics.stackexchange.com/questions/154225/maximum-protusion-length-for-through-hole-component-pins   \n",
       "3                                       http://judaism.stackexchange.com/questions/55182/can-an-affidavit-be-used-in-beit-din   \n",
       "4                          http://graphicdesign.stackexchange.com/questions/35791/how-do-you-make-a-binary-image-in-photoshop   \n",
       "\n",
       "    category  ... question_well_written  answer_helpful  \\\n",
       "0  LIFE_ARTS  ...              1.000000        1.000000   \n",
       "1    CULTURE  ...              0.888889        0.888889   \n",
       "2    SCIENCE  ...              0.777778        0.777778   \n",
       "3    CULTURE  ...              0.888889        0.833333   \n",
       "4  LIFE_ARTS  ...              1.000000        1.000000   \n",
       "\n",
       "   answer_level_of_information  answer_plausible  answer_relevance  \\\n",
       "0                     0.666667          1.000000          1.000000   \n",
       "1                     0.555556          0.888889          0.888889   \n",
       "2                     0.555556          1.000000          1.000000   \n",
       "3                     0.333333          0.833333          1.000000   \n",
       "4                     0.666667          1.000000          1.000000   \n",
       "\n",
       "   answer_satisfaction  answer_type_instructions  answer_type_procedure  \\\n",
       "0             0.800000                       1.0               0.000000   \n",
       "1             0.666667                       0.0               0.000000   \n",
       "2             0.666667                       0.0               0.333333   \n",
       "3             0.800000                       0.0               0.000000   \n",
       "4             0.800000                       1.0               0.000000   \n",
       "\n",
       "   answer_type_reason_explanation  answer_well_written  \n",
       "0                        0.000000             1.000000  \n",
       "1                        0.666667             0.888889  \n",
       "2                        1.000000             0.888889  \n",
       "3                        1.000000             1.000000  \n",
       "4                        1.000000             1.000000  \n",
       "\n",
       "[5 rows x 41 columns]"
      ]
     },
     "execution_count": 5,
     "metadata": {},
     "output_type": "execute_result"
    }
   ],
   "source": [
    "quest_trn.head()"
   ]
  },
  {
   "cell_type": "markdown",
   "metadata": {},
   "source": [
    "#### Process QUEST data"
   ]
  },
  {
   "cell_type": "code",
   "execution_count": 6,
   "metadata": {
    "scrolled": true
   },
   "outputs": [],
   "source": [
    "# Replace \\n with xxnpg\n",
    "for df in [quest_trn, quest_tst]:\n",
    "    for col in ['question_title', 'question_body', 'answer']:\n",
    "        df[f'{col}'] = df[f'{col}'].str.replace(pat='\\n', repl=f' xxnpg ')"
   ]
  },
  {
   "cell_type": "markdown",
   "metadata": {},
   "source": [
    "#### Add Special Tokens and Merge Text Columns"
   ]
  },
  {
   "cell_type": "code",
   "execution_count": 7,
   "metadata": {},
   "outputs": [],
   "source": [
    "for df in [quest_trn, quest_tst]:\n",
    "    df['doc'] = 'xxqts ' + df.question_title + ' xxqte xxqbs ' + df.question_body + ' xxqbe '\n",
    "    df['doc'] = df['doc'] + ' xxabs '  + df.answer + ' xxabe xxcls ' + df.category + ' '\n",
    "    df['doc'] = df['doc'] + ' ' + df.host + ' ' + df.question_user_name + ' ' + df.answer_user_name"
   ]
  },
  {
   "cell_type": "code",
   "execution_count": 8,
   "metadata": {},
   "outputs": [
    {
     "name": "stdout",
     "output_type": "stream",
     "text": [
      "Train df NaNs frac: 0.0\n",
      "Train df total rows : 6.079k rows\n",
      "Test df NaNs frac: 0.0\n",
      "Test df total rows : 0.476k rows\n"
     ]
    }
   ],
   "source": [
    "for i,df in enumerate([quest_trn, quest_tst]):\n",
    "    df_name=['Train df', 'Test df']\n",
    "    print(f'{df_name[i]} NaNs frac: {df.isna().doc.sum() / len(df)}')\n",
    "    print(f'{df_name[i]} total rows : {len(df)/1000}k rows')"
   ]
  },
  {
   "cell_type": "markdown",
   "metadata": {},
   "source": [
    "### Filter Columns"
   ]
  },
  {
   "cell_type": "code",
   "execution_count": 9,
   "metadata": {
    "scrolled": true
   },
   "outputs": [
    {
     "data": {
      "text/html": [
       "<div>\n",
       "<style scoped>\n",
       "    .dataframe tbody tr th:only-of-type {\n",
       "        vertical-align: middle;\n",
       "    }\n",
       "\n",
       "    .dataframe tbody tr th {\n",
       "        vertical-align: top;\n",
       "    }\n",
       "\n",
       "    .dataframe thead th {\n",
       "        text-align: right;\n",
       "    }\n",
       "</style>\n",
       "<table border=\"1\" class=\"dataframe\">\n",
       "  <thead>\n",
       "    <tr style=\"text-align: right;\">\n",
       "      <th></th>\n",
       "      <th>doc</th>\n",
       "      <th>question_asker_intent_understanding</th>\n",
       "      <th>question_body_critical</th>\n",
       "      <th>question_conversational</th>\n",
       "      <th>question_expect_short_answer</th>\n",
       "      <th>question_fact_seeking</th>\n",
       "      <th>question_has_commonly_accepted_answer</th>\n",
       "      <th>question_interestingness_others</th>\n",
       "      <th>question_interestingness_self</th>\n",
       "      <th>question_multi_intent</th>\n",
       "      <th>...</th>\n",
       "      <th>question_well_written</th>\n",
       "      <th>answer_helpful</th>\n",
       "      <th>answer_level_of_information</th>\n",
       "      <th>answer_plausible</th>\n",
       "      <th>answer_relevance</th>\n",
       "      <th>answer_satisfaction</th>\n",
       "      <th>answer_type_instructions</th>\n",
       "      <th>answer_type_procedure</th>\n",
       "      <th>answer_type_reason_explanation</th>\n",
       "      <th>answer_well_written</th>\n",
       "    </tr>\n",
       "  </thead>\n",
       "  <tbody>\n",
       "    <tr>\n",
       "      <th>0</th>\n",
       "      <td>xxqts What am I losing when using extension tubes instead of a macro lens? xxqte xxqbs After playing around with macro photography on-the-cheap (read: reversed lens, rev. lens mounted on a straight lens, passive extension tubes), I would like to get further with this. The problems with the techniques I used is that focus is manual and aperture control is problematic at best. This limited my setup to still subjects (read: dead insects) Now, as spring is approaching, I want to be able to shoot live insects. I believe that for this, autofocus and settable aperture will be of great help. xxnpg...</td>\n",
       "      <td>1.0</td>\n",
       "      <td>0.333333</td>\n",
       "      <td>0.0</td>\n",
       "      <td>0.0</td>\n",
       "      <td>0.0</td>\n",
       "      <td>0.0</td>\n",
       "      <td>1.000000</td>\n",
       "      <td>1.000000</td>\n",
       "      <td>0.000000</td>\n",
       "      <td>...</td>\n",
       "      <td>1.000000</td>\n",
       "      <td>1.000000</td>\n",
       "      <td>0.666667</td>\n",
       "      <td>1.000000</td>\n",
       "      <td>1.000000</td>\n",
       "      <td>0.800000</td>\n",
       "      <td>1.0</td>\n",
       "      <td>0.0</td>\n",
       "      <td>0.000000</td>\n",
       "      <td>1.000000</td>\n",
       "    </tr>\n",
       "    <tr>\n",
       "      <th>1</th>\n",
       "      <td>xxqts What is the distinction between a city and a sprawl/metroplex... between downtown and a commercial district? xxqte xxqbs I am trying to understand what kinds of places the spam values on p 231 refer to in the 5th Edition main book for Shadowrun. xxnpg  xxnpg Per p 15, a sprawl is a plex, a plex is a \"metropolitan complex, short for metroplex\". Per Google a metroplex is \" a very large metropolitan area, especially one that is an aggregation of two or more cities\".  A city downtown and sprawl downtown would tend to have similar densities, but for some reason the sprawl (which includes ...</td>\n",
       "      <td>1.0</td>\n",
       "      <td>1.000000</td>\n",
       "      <td>0.0</td>\n",
       "      <td>0.5</td>\n",
       "      <td>1.0</td>\n",
       "      <td>1.0</td>\n",
       "      <td>0.444444</td>\n",
       "      <td>0.444444</td>\n",
       "      <td>0.666667</td>\n",
       "      <td>...</td>\n",
       "      <td>0.888889</td>\n",
       "      <td>0.888889</td>\n",
       "      <td>0.555556</td>\n",
       "      <td>0.888889</td>\n",
       "      <td>0.888889</td>\n",
       "      <td>0.666667</td>\n",
       "      <td>0.0</td>\n",
       "      <td>0.0</td>\n",
       "      <td>0.666667</td>\n",
       "      <td>0.888889</td>\n",
       "    </tr>\n",
       "  </tbody>\n",
       "</table>\n",
       "<p>2 rows × 31 columns</p>\n",
       "</div>"
      ],
      "text/plain": [
       "                                                                                                                                                                                                                                                                                                                                                                                                                                                                                                                                                                                                                       doc  \\\n",
       "0  xxqts What am I losing when using extension tubes instead of a macro lens? xxqte xxqbs After playing around with macro photography on-the-cheap (read: reversed lens, rev. lens mounted on a straight lens, passive extension tubes), I would like to get further with this. The problems with the techniques I used is that focus is manual and aperture control is problematic at best. This limited my setup to still subjects (read: dead insects) Now, as spring is approaching, I want to be able to shoot live insects. I believe that for this, autofocus and settable aperture will be of great help. xxnpg...   \n",
       "1  xxqts What is the distinction between a city and a sprawl/metroplex... between downtown and a commercial district? xxqte xxqbs I am trying to understand what kinds of places the spam values on p 231 refer to in the 5th Edition main book for Shadowrun. xxnpg  xxnpg Per p 15, a sprawl is a plex, a plex is a \"metropolitan complex, short for metroplex\". Per Google a metroplex is \" a very large metropolitan area, especially one that is an aggregation of two or more cities\".  A city downtown and sprawl downtown would tend to have similar densities, but for some reason the sprawl (which includes ...   \n",
       "\n",
       "   question_asker_intent_understanding  question_body_critical  \\\n",
       "0                                  1.0                0.333333   \n",
       "1                                  1.0                1.000000   \n",
       "\n",
       "   question_conversational  question_expect_short_answer  \\\n",
       "0                      0.0                           0.0   \n",
       "1                      0.0                           0.5   \n",
       "\n",
       "   question_fact_seeking  question_has_commonly_accepted_answer  \\\n",
       "0                    0.0                                    0.0   \n",
       "1                    1.0                                    1.0   \n",
       "\n",
       "   question_interestingness_others  question_interestingness_self  \\\n",
       "0                         1.000000                       1.000000   \n",
       "1                         0.444444                       0.444444   \n",
       "\n",
       "   question_multi_intent  ...  question_well_written  answer_helpful  \\\n",
       "0               0.000000  ...               1.000000        1.000000   \n",
       "1               0.666667  ...               0.888889        0.888889   \n",
       "\n",
       "   answer_level_of_information  answer_plausible  answer_relevance  \\\n",
       "0                     0.666667          1.000000          1.000000   \n",
       "1                     0.555556          0.888889          0.888889   \n",
       "\n",
       "   answer_satisfaction  answer_type_instructions  answer_type_procedure  \\\n",
       "0             0.800000                       1.0                    0.0   \n",
       "1             0.666667                       0.0                    0.0   \n",
       "\n",
       "   answer_type_reason_explanation  answer_well_written  \n",
       "0                        0.000000             1.000000  \n",
       "1                        0.666667             0.888889  \n",
       "\n",
       "[2 rows x 31 columns]"
      ]
     },
     "execution_count": 9,
     "metadata": {},
     "output_type": "execute_result"
    }
   ],
   "source": [
    "trn_keep_cols = ['doc'] + list(label_cols)\n",
    "trn_df = quest_trn[trn_keep_cols].copy()\n",
    "\n",
    "tst_keep_cols = ['doc']\n",
    "tst_df = quest_tst[tst_keep_cols].copy()\n",
    "\n",
    "trn_df.head(2)"
   ]
  },
  {
   "cell_type": "code",
   "execution_count": 10,
   "metadata": {
    "scrolled": true
   },
   "outputs": [
    {
     "data": {
      "text/html": [
       "<div>\n",
       "<style scoped>\n",
       "    .dataframe tbody tr th:only-of-type {\n",
       "        vertical-align: middle;\n",
       "    }\n",
       "\n",
       "    .dataframe tbody tr th {\n",
       "        vertical-align: top;\n",
       "    }\n",
       "\n",
       "    .dataframe thead th {\n",
       "        text-align: right;\n",
       "    }\n",
       "</style>\n",
       "<table border=\"1\" class=\"dataframe\">\n",
       "  <thead>\n",
       "    <tr style=\"text-align: right;\">\n",
       "      <th></th>\n",
       "      <th>doc</th>\n",
       "    </tr>\n",
       "  </thead>\n",
       "  <tbody>\n",
       "    <tr>\n",
       "      <th>0</th>\n",
       "      <td>xxqts Will leaving corpses lying around upset my prisoners? xxqte xxqbs I see questions/information online about how to get rid of corpses but I'm not sure what the consequences to having them lying around are. xxnpg  xxnpg I know that I can use a morgue to store them and that they will eventually be taken away in a hearse. However, I've always just left them lying around. This doesn't seem to have any obvious consequences. xxnpg  xxnpg Do they upset prisoners or staff (e.g. increasing the danger level beyond what death normally does)? Make them sick? Slow down pathing? Is this something t...</td>\n",
       "    </tr>\n",
       "    <tr>\n",
       "      <th>1</th>\n",
       "      <td>xxqts Url link to feature image in the portfolio xxqte xxqbs I am new to Wordpress. i have issue with Feature image. just i need to add URL to feature image(when we click on that feature image , it should redirect to that particular URL). xxnpg  xxnpg also is it possible to give URL to Title of the Portfolio categories page which i used in normal page. xxnpg  xxnpg  xxnpg  xxnpg This is Portfolio , i have used in the \"mypage\" . so in that\" mypage\" when we click on that image and title it should be redirect to the link (should able to give individual link) xxnpg  xxnpg  xxnpg  xxnpg Any hel...</td>\n",
       "    </tr>\n",
       "  </tbody>\n",
       "</table>\n",
       "</div>"
      ],
      "text/plain": [
       "                                                                                                                                                                                                                                                                                                                                                                                                                                                                                                                                                                                                                       doc\n",
       "0  xxqts Will leaving corpses lying around upset my prisoners? xxqte xxqbs I see questions/information online about how to get rid of corpses but I'm not sure what the consequences to having them lying around are. xxnpg  xxnpg I know that I can use a morgue to store them and that they will eventually be taken away in a hearse. However, I've always just left them lying around. This doesn't seem to have any obvious consequences. xxnpg  xxnpg Do they upset prisoners or staff (e.g. increasing the danger level beyond what death normally does)? Make them sick? Slow down pathing? Is this something t...\n",
       "1  xxqts Url link to feature image in the portfolio xxqte xxqbs I am new to Wordpress. i have issue with Feature image. just i need to add URL to feature image(when we click on that feature image , it should redirect to that particular URL). xxnpg  xxnpg also is it possible to give URL to Title of the Portfolio categories page which i used in normal page. xxnpg  xxnpg  xxnpg  xxnpg This is Portfolio , i have used in the \"mypage\" . so in that\" mypage\" when we click on that image and title it should be redirect to the link (should able to give individual link) xxnpg  xxnpg  xxnpg  xxnpg Any hel..."
      ]
     },
     "execution_count": 10,
     "metadata": {},
     "output_type": "execute_result"
    }
   ],
   "source": [
    "tst_df.head(2)"
   ]
  },
  {
   "cell_type": "markdown",
   "metadata": {},
   "source": [
    "## Custom bits to get things working\n",
    "#### Enable SentencePiece tokenizer"
   ]
  },
  {
   "cell_type": "code",
   "execution_count": 2,
   "metadata": {},
   "outputs": [],
   "source": [
    "# class mmgSentencePieceTokenizer(SentencePieceTokenizer):  \n",
    "#     def train(self, raw_text_path):\n",
    "#         \"Train a sentencepiece tokenizer on `texts` and save it in `path/tmp_dir`\"\n",
    "#         from sentencepiece import SentencePieceTrainer\n",
    "#         vocab_sz = self._get_vocab_sz(raw_text_path) if self.vocab_sz is None else self.vocab_sz\n",
    "#         print(f'vocab_sz is {vocab_sz}')\n",
    "        \n",
    "#         spec_tokens = ['\\u2581'+s for s in self.special_toks]\n",
    "        \n",
    "#         SentencePieceTrainer.Train(\" \".join([\n",
    "#             f\"--input={raw_text_path} --vocab_size={vocab_sz} --model_prefix={self.cache_dir/'spm'}\",\n",
    "#             f\"--character_coverage={self.char_coverage} --model_type={self.model_type}\",\n",
    "#             f\"--unk_id={len(spec_tokens)} --pad_id=-1 --bos_id=-1 --eos_id=-1\",\n",
    "#             f\"--user_defined_symbols={','.join(spec_tokens)}\"   ,   \n",
    "#             \"--hard_vocab_limit=false\"   #  <--- MORGAN ADDED HERE AS PER https://github.com/google/sentencepiece/issues/226\n",
    "#         ]))\n",
    "#         raw_text_path.unlink()\n",
    "#         return self.cache_dir/'spm.model'\n",
    "    \n",
    "#     def setup(self, items, rules):\n",
    "#         if self.tok is not None: return {'sp_model': self.sp_model}\n",
    "#         raw_text_path = self.cache_dir/'texts.out'\n",
    "#         with open(raw_text_path, 'w') as f:\n",
    "#             for t in progress_bar(maps(*rules, items), total=len(items), leave=False):\n",
    "#                 f.write(f'{t}\\n')\n",
    "#         return {'sp_model': self.train(raw_text_path)}"
   ]
  },
  {
   "cell_type": "markdown",
   "metadata": {},
   "source": [
    "## Language Model Finetuning\n",
    "Finetune saved language model on Google QUEST dataset"
   ]
  },
  {
   "cell_type": "code",
   "execution_count": 13,
   "metadata": {},
   "outputs": [
    {
     "data": {
      "text/plain": [
       "6555"
      ]
     },
     "execution_count": 13,
     "metadata": {},
     "output_type": "execute_result"
    }
   ],
   "source": [
    "merge_df = pd.DataFrame(pd.concat([trn_df['doc'], tst_df['doc']]))\n",
    "merge_df = merge_df.sample(frac=1)\n",
    "merge_df.reset_index(inplace=True, drop=True)\n",
    "len(merge_df)"
   ]
  },
  {
   "cell_type": "markdown",
   "metadata": {},
   "source": [
    "## Set up Tokenizer, Dataset and Dataloader"
   ]
  },
  {
   "cell_type": "code",
   "execution_count": 14,
   "metadata": {},
   "outputs": [],
   "source": [
    "additional_special_toks = ['xxnpg', 'xxqts', 'xxqte', 'xxqbs','xxqbe','xxans','xxane','xxars','xxare', 'xxcls',\n",
    "                'xxh1s','xxh2s','xxh3s','xxh4s','xxh5s',\n",
    "                'xxh1e','xxh2e','xxh3e','xxh4e','xxh5e']\n",
    "\n",
    "all_special_toks = defaults.text_spec_tok + additional_special_toks"
   ]
  },
  {
   "cell_type": "markdown",
   "metadata": {},
   "source": [
    "## Language Model Dataloaders"
   ]
  },
  {
   "cell_type": "code",
   "execution_count": 15,
   "metadata": {},
   "outputs": [],
   "source": [
    "tok_fn = Tokenizer.from_df(text_cols='doc', res_col_name='doc',\n",
    "                     tok_func=SentencePieceTokenizer, \n",
    "                     model_type='bpe', \n",
    "                     special_toks=all_special_toks, \n",
    "                     max_vocab_sz=20000\n",
    "                    ) "
   ]
  },
  {
   "cell_type": "code",
   "execution_count": 16,
   "metadata": {
    "scrolled": true
   },
   "outputs": [
    {
     "data": {
      "text/html": [],
      "text/plain": [
       "<IPython.core.display.HTML object>"
      ]
     },
     "metadata": {},
     "output_type": "display_data"
    },
    {
     "name": "stdout",
     "output_type": "stream",
     "text": [
      "vocab_sz is 20000\n"
     ]
    },
    {
     "data": {
      "text/html": [],
      "text/plain": [
       "<IPython.core.display.HTML object>"
      ]
     },
     "metadata": {},
     "output_type": "display_data"
    }
   ],
   "source": [
    "bs=128\n",
    "sl = 72\n",
    "\n",
    "splits = [list(range_of(trn_df)), list(range(len(trn_df), len(merge_df)))]\n",
    "tfms = [attrgetter('doc'), tok_fn, Numericalize(vocab=lm_vocab)]   # Load pretrained model's vocab\n",
    "## ERROR: https://github.com/google/sentencepiece/issues/297\n",
    "## https://github.com/google/sentencepiece/issues/226\n",
    "\n",
    "lmdsets = Datasets(merge_df, [tfms], splits=splits, dl_type=LMDataLoader)"
   ]
  },
  {
   "cell_type": "code",
   "execution_count": 17,
   "metadata": {},
   "outputs": [],
   "source": [
    "lmdls = lmdsets.dataloaders(bs=bs, seq_len=sl, device='cuda')"
   ]
  },
  {
   "cell_type": "code",
   "execution_count": 18,
   "metadata": {},
   "outputs": [
    {
     "data": {
      "text/html": [
       "<table border=\"1\" class=\"dataframe\">\n",
       "  <thead>\n",
       "    <tr style=\"text-align: right;\">\n",
       "      <th></th>\n",
       "      <th>text</th>\n",
       "      <th>text_</th>\n",
       "    </tr>\n",
       "  </thead>\n",
       "  <tbody>\n",
       "    <tr>\n",
       "      <th>0</th>\n",
       "      <td>▁xxbos ▁xxqts ▁xxmaj ▁how ▁to ▁find ▁the ▁actual ▁working ▁directory ? ▁xxqte ▁xxqbs ▁xxmaj ▁when ▁i ▁try ▁to ▁find ▁the ▁current ▁working ▁directory ▁at ▁a ▁linux ▁command ▁prompt ▁( using ▁\" pwd \"), ▁it ▁will ▁show ▁the ▁directory ▁with ▁symbolic ▁links ▁included . ▁xxmaj ▁for ▁example , ▁if ▁i ▁make ▁a ▁symbolic ▁link ▁and ▁use ▁it ▁to ▁visit ▁that ▁directory : ▁xxnpg ▁xxnpg ▁ln ▁- s ▁/ xxunk ▁/ ▁backup ▁/ ▁home</td>\n",
       "      <td>▁xxqts ▁xxmaj ▁how ▁to ▁find ▁the ▁actual ▁working ▁directory ? ▁xxqte ▁xxqbs ▁xxmaj ▁when ▁i ▁try ▁to ▁find ▁the ▁current ▁working ▁directory ▁at ▁a ▁linux ▁command ▁prompt ▁( using ▁\" pwd \"), ▁it ▁will ▁show ▁the ▁directory ▁with ▁symbolic ▁links ▁included . ▁xxmaj ▁for ▁example , ▁if ▁i ▁make ▁a ▁symbolic ▁link ▁and ▁use ▁it ▁to ▁visit ▁that ▁directory : ▁xxnpg ▁xxnpg ▁ln ▁- s ▁/ xxunk ▁/ ▁backup ▁/ ▁home ▁/</td>\n",
       "    </tr>\n",
       "    <tr>\n",
       "      <th>1</th>\n",
       "      <td>xxunk ▁i ▁don ' t ▁think ▁there ▁is ▁any ▁single ▁answer ▁to ▁this ▁question , ▁because ▁it ▁would ▁depend ▁on : ▁xxwrep ▁3 ▁xxnpg ▁xxmaj ▁the ▁type ▁and xxunk ▁of ▁the xxunk ▁xxnpg ▁xxmaj ▁the ▁starting ▁temperature ▁of ▁the xxunk ▁xxnpg ▁xxmaj ▁how ▁well ▁you ▁like ▁it ▁done ▁( because ▁the ▁goal ▁is ▁to ▁get ▁enough xxunk ▁and ▁crust ▁development ▁on ▁the ▁outside , ▁without ▁crossing ▁over ▁into ▁burning , ▁while ▁still</td>\n",
       "      <td>▁i ▁don ' t ▁think ▁there ▁is ▁any ▁single ▁answer ▁to ▁this ▁question , ▁because ▁it ▁would ▁depend ▁on : ▁xxwrep ▁3 ▁xxnpg ▁xxmaj ▁the ▁type ▁and xxunk ▁of ▁the xxunk ▁xxnpg ▁xxmaj ▁the ▁starting ▁temperature ▁of ▁the xxunk ▁xxnpg ▁xxmaj ▁how ▁well ▁you ▁like ▁it ▁done ▁( because ▁the ▁goal ▁is ▁to ▁get ▁enough xxunk ▁and ▁crust ▁development ▁on ▁the ▁outside , ▁without ▁crossing ▁over ▁into ▁burning , ▁while ▁still ▁cooking</td>\n",
       "    </tr>\n",
       "  </tbody>\n",
       "</table>"
      ],
      "text/plain": [
       "<IPython.core.display.HTML object>"
      ]
     },
     "metadata": {},
     "output_type": "display_data"
    }
   ],
   "source": [
    "lmdls.show_batch(max_n=2)"
   ]
  },
  {
   "cell_type": "markdown",
   "metadata": {},
   "source": [
    "## Create language model - with Large params"
   ]
  },
  {
   "cell_type": "code",
   "execution_count": 19,
   "metadata": {},
   "outputs": [],
   "source": [
    "config=awd_lstm_lm_config\n",
    "config['emb_sz'] = 500\n",
    "config['n_hid'] = 1500\n",
    "config['n_layers'] = 4"
   ]
  },
  {
   "cell_type": "code",
   "execution_count": 20,
   "metadata": {
    "scrolled": true
   },
   "outputs": [],
   "source": [
    "lm_model = get_language_model(AWD_LSTM, vocab_sz=len(lm_vocab), config=awd_lstm_lm_config)\n",
    "\n",
    "#lm_opt_func = partial(Adam, wd=0.1, eps=1e-7)\n",
    "# Ranger optimizer\n",
    "def optfunc(p, lr=defaults.lr): return Lookahead(RAdam(p, lr=lr))\n",
    "\n",
    "lm_cbs = [MixedPrecision(clip=0.1), ModelReseter, RNNRegularizer(alpha=2, beta=1)]\n",
    "\n",
    "lm_learn = Learner(dls=lmdls, model=lm_model, loss_func=CrossEntropyLossFlat(), \n",
    "                opt_func=optfunc, cbs=lm_cbs,\n",
    "                metrics=[accuracy, Perplexity()])"
   ]
  },
  {
   "cell_type": "code",
   "execution_count": 21,
   "metadata": {
    "scrolled": true
   },
   "outputs": [
    {
     "name": "stdout",
     "output_type": "stream",
     "text": [
      "Start Fit\n",
      "   - begin_fit      : [TrainEvalCallback, Recorder, ProgressCallback, MixedPrecision]\n",
      "  Start Epoch Loop\n",
      "     - begin_epoch    : [Recorder, ProgressCallback]\n",
      "    Start Train\n",
      "       - begin_train    : [TrainEvalCallback, Recorder, ProgressCallback, ModelReseter]\n",
      "      Start Batch Loop\n",
      "         - begin_batch    : [MixedPrecision]\n",
      "         - after_pred     : [RNNRegularizer, MixedPrecision]\n",
      "         - after_loss     : [RNNRegularizer, MixedPrecision]\n",
      "         - after_backward : [MixedPrecision]\n",
      "         - after_step     : [MixedPrecision]\n",
      "         - after_cancel_batch: []\n",
      "         - after_batch    : [TrainEvalCallback, Recorder, ProgressCallback]\n",
      "      End Batch Loop\n",
      "    End Train\n",
      "     - after_cancel_train: [Recorder]\n",
      "     - after_train    : [Recorder, ProgressCallback]\n",
      "    Start Valid\n",
      "       - begin_validate : [TrainEvalCallback, Recorder, ProgressCallback, ModelReseter]\n",
      "      Start Batch Loop\n",
      "         - **CBs same as train batch**: []\n",
      "      End Batch Loop\n",
      "    End Valid\n",
      "     - after_cancel_validate: [Recorder]\n",
      "     - after_validate : [Recorder, ProgressCallback]\n",
      "  End Epoch Loop\n",
      "   - after_cancel_epoch: []\n",
      "   - after_epoch    : [Recorder]\n",
      "End Fit\n",
      " - after_cancel_fit: []\n",
      " - after_fit      : [ProgressCallback, MixedPrecision]\n"
     ]
    }
   ],
   "source": [
    "lm_learn.show_training_loop()"
   ]
  },
  {
   "cell_type": "markdown",
   "metadata": {},
   "source": [
    "## Load pretrained weights"
   ]
  },
  {
   "cell_type": "code",
   "execution_count": 22,
   "metadata": {
    "scrolled": true
   },
   "outputs": [
    {
     "data": {
      "text/plain": [
       "<fastai2.learner.Learner at 0x7fa47263e4d0>"
      ]
     },
     "execution_count": 22,
     "metadata": {},
     "output_type": "execute_result"
    }
   ],
   "source": [
    "lm_learn.load('/home/morgan/ml/projects/kaggle_google_quest/models/lm_large_7e_2e-3_ffc_2020-02-08')"
   ]
  },
  {
   "cell_type": "markdown",
   "metadata": {},
   "source": [
    "## Train language model"
   ]
  },
  {
   "cell_type": "markdown",
   "metadata": {},
   "source": [
    "## Stage 1"
   ]
  },
  {
   "cell_type": "code",
   "execution_count": 4,
   "metadata": {
    "scrolled": true
   },
   "outputs": [],
   "source": [
    "# Load our pretrained LM\n",
    "lm_learn.load('/home/morgan/ml/projects/kaggle_google_quest/models/lm_large_7e_2e-3_ffc_2020-02-08')"
   ]
  },
  {
   "cell_type": "markdown",
   "metadata": {},
   "source": [
    "## Train language model"
   ]
  },
  {
   "cell_type": "code",
   "execution_count": 23,
   "metadata": {},
   "outputs": [
    {
     "data": {
      "text/html": [],
      "text/plain": [
       "<IPython.core.display.HTML object>"
      ]
     },
     "metadata": {},
     "output_type": "display_data"
    },
    {
     "data": {
      "text/plain": [
       "(0.004786301031708717, 3.019951861915615e-07)"
      ]
     },
     "execution_count": 23,
     "metadata": {},
     "output_type": "execute_result"
    },
    {
     "data": {
      "image/png": "[encoded data removed]",
      "text/plain": [
       "<Figure size 432x288 with 1 Axes>"
      ]
     },
     "metadata": {
      "needs_background": "light"
     },
     "output_type": "display_data"
    }
   ],
   "source": [
    "lm_learn.lr_find(suggestions=True)"
   ]
  },
  {
   "cell_type": "code",
   "execution_count": 24,
   "metadata": {},
   "outputs": [
    {
     "data": {
      "text/plain": [
       "<matplotlib.collections.LineCollection at 0x7ff317939290>"
      ]
     },
     "execution_count": 24,
     "metadata": {},
     "output_type": "execute_result"
    },
    {
     "data": {
      "image/png": "[encoded data removed]",
      "text/plain": [
       "<Figure size 432x288 with 1 Axes>"
      ]
     },
     "metadata": {
      "needs_background": "light"
     },
     "output_type": "display_data"
    }
   ],
   "source": [
    "lm_learn.recorder.plot_lr_find()\n",
    "plt.vlines(0.004786, 4, 10)\n",
    "plt.vlines(3.01e-07, 4, 10)"
   ]
  },
  {
   "cell_type": "code",
   "execution_count": 25,
   "metadata": {},
   "outputs": [
    {
     "data": {
      "text/html": [
       "<table border=\"1\" class=\"dataframe\">\n",
       "  <thead>\n",
       "    <tr style=\"text-align: left;\">\n",
       "      <th>epoch</th>\n",
       "      <th>train_loss</th>\n",
       "      <th>valid_loss</th>\n",
       "      <th>accuracy</th>\n",
       "      <th>perplexity</th>\n",
       "      <th>time</th>\n",
       "    </tr>\n",
       "  </thead>\n",
       "  <tbody>\n",
       "    <tr>\n",
       "      <td>0</td>\n",
       "      <td>4.203879</td>\n",
       "      <td>3.861174</td>\n",
       "      <td>0.325943</td>\n",
       "      <td>47.521114</td>\n",
       "      <td>02:33</td>\n",
       "    </tr>\n",
       "    <tr>\n",
       "      <td>1</td>\n",
       "      <td>3.933607</td>\n",
       "      <td>3.737407</td>\n",
       "      <td>0.333912</td>\n",
       "      <td>41.988972</td>\n",
       "      <td>02:36</td>\n",
       "    </tr>\n",
       "    <tr>\n",
       "      <td>2</td>\n",
       "      <td>3.744424</td>\n",
       "      <td>3.614546</td>\n",
       "      <td>0.348786</td>\n",
       "      <td>37.134495</td>\n",
       "      <td>02:36</td>\n",
       "    </tr>\n",
       "    <tr>\n",
       "      <td>3</td>\n",
       "      <td>3.544729</td>\n",
       "      <td>3.549488</td>\n",
       "      <td>0.359757</td>\n",
       "      <td>34.795490</td>\n",
       "      <td>02:37</td>\n",
       "    </tr>\n",
       "    <tr>\n",
       "      <td>4</td>\n",
       "      <td>3.424990</td>\n",
       "      <td>3.482077</td>\n",
       "      <td>0.368988</td>\n",
       "      <td>32.527199</td>\n",
       "      <td>02:36</td>\n",
       "    </tr>\n",
       "    <tr>\n",
       "      <td>5</td>\n",
       "      <td>3.234761</td>\n",
       "      <td>3.417491</td>\n",
       "      <td>0.378496</td>\n",
       "      <td>30.492826</td>\n",
       "      <td>02:36</td>\n",
       "    </tr>\n",
       "    <tr>\n",
       "      <td>6</td>\n",
       "      <td>3.166792</td>\n",
       "      <td>3.381681</td>\n",
       "      <td>0.386329</td>\n",
       "      <td>29.420177</td>\n",
       "      <td>02:36</td>\n",
       "    </tr>\n",
       "    <tr>\n",
       "      <td>7</td>\n",
       "      <td>3.058160</td>\n",
       "      <td>3.360158</td>\n",
       "      <td>0.390046</td>\n",
       "      <td>28.793739</td>\n",
       "      <td>02:36</td>\n",
       "    </tr>\n",
       "    <tr>\n",
       "      <td>8</td>\n",
       "      <td>3.002769</td>\n",
       "      <td>3.349295</td>\n",
       "      <td>0.392871</td>\n",
       "      <td>28.482643</td>\n",
       "      <td>02:36</td>\n",
       "    </tr>\n",
       "    <tr>\n",
       "      <td>9</td>\n",
       "      <td>2.958426</td>\n",
       "      <td>3.347643</td>\n",
       "      <td>0.393671</td>\n",
       "      <td>28.435637</td>\n",
       "      <td>02:36</td>\n",
       "    </tr>\n",
       "  </tbody>\n",
       "</table>"
      ],
      "text/plain": [
       "<IPython.core.display.HTML object>"
      ]
     },
     "metadata": {},
     "output_type": "display_data"
    }
   ],
   "source": [
    "lm_learn.freeze()\n",
    "lm_learn.fit_one_cycle(10,5e-3)"
   ]
  },
  {
   "cell_type": "code",
   "execution_count": 26,
   "metadata": {},
   "outputs": [
    {
     "data": {
      "image/png": "[encoded data removed]",
      "text/plain": [
       "<Figure size 432x288 with 1 Axes>"
      ]
     },
     "metadata": {
      "needs_background": "light"
     },
     "output_type": "display_data"
    }
   ],
   "source": [
    "lm_learn.recorder.plot_loss()"
   ]
  },
  {
   "cell_type": "code",
   "execution_count": 27,
   "metadata": {},
   "outputs": [
    {
     "data": {
      "image/png": "[encoded data removed]",
      "text/plain": [
       "<Figure size 864x288 with 2 Axes>"
      ]
     },
     "metadata": {
      "needs_background": "light"
     },
     "output_type": "display_data"
    }
   ],
   "source": [
    "lm_learn.recorder.plot_sched()"
   ]
  },
  {
   "cell_type": "code",
   "execution_count": 28,
   "metadata": {},
   "outputs": [],
   "source": [
    "lm_learn.save(f'quest_lm_stg1_10e_5e-3_{date.today()}')"
   ]
  },
  {
   "cell_type": "markdown",
   "metadata": {},
   "source": [
    "## Stage 2"
   ]
  },
  {
   "cell_type": "code",
   "execution_count": 29,
   "metadata": {},
   "outputs": [
    {
     "data": {
      "text/html": [],
      "text/plain": [
       "<IPython.core.display.HTML object>"
      ]
     },
     "metadata": {},
     "output_type": "display_data"
    },
    {
     "data": {
      "text/plain": [
       "(5.248074330665986e-08, 2.5118865210060903e-07)"
      ]
     },
     "execution_count": 29,
     "metadata": {},
     "output_type": "execute_result"
    },
    {
     "data": {
      "image/png": "[encoded data removed]",
      "text/plain": [
       "<Figure size 432x288 with 1 Axes>"
      ]
     },
     "metadata": {
      "needs_background": "light"
     },
     "output_type": "display_data"
    }
   ],
   "source": [
    "lm_learn.lr_find(suggestions=True)"
   ]
  },
  {
   "cell_type": "code",
   "execution_count": 31,
   "metadata": {},
   "outputs": [
    {
     "data": {
      "text/plain": [
       "<matplotlib.collections.LineCollection at 0x7ff316e14d90>"
      ]
     },
     "execution_count": 31,
     "metadata": {},
     "output_type": "execute_result"
    },
    {
     "data": {
      "image/png": "[encoded data removed]",
      "text/plain": [
       "<Figure size 432x288 with 1 Axes>"
      ]
     },
     "metadata": {
      "needs_background": "light"
     },
     "output_type": "display_data"
    }
   ],
   "source": [
    "lm_learn.recorder.plot_lr_find()\n",
    "plt.vlines(5.248e-08, 2.7, 5)\n",
    "plt.vlines(2.511e-07, 2.7, 5)"
   ]
  },
  {
   "cell_type": "code",
   "execution_count": 33,
   "metadata": {
    "scrolled": false
   },
   "outputs": [
    {
     "data": {
      "text/html": [
       "<table border=\"1\" class=\"dataframe\">\n",
       "  <thead>\n",
       "    <tr style=\"text-align: left;\">\n",
       "      <th>epoch</th>\n",
       "      <th>train_loss</th>\n",
       "      <th>valid_loss</th>\n",
       "      <th>accuracy</th>\n",
       "      <th>perplexity</th>\n",
       "      <th>time</th>\n",
       "    </tr>\n",
       "  </thead>\n",
       "  <tbody>\n",
       "    <tr>\n",
       "      <td>0</td>\n",
       "      <td>3.130388</td>\n",
       "      <td>3.361490</td>\n",
       "      <td>0.390890</td>\n",
       "      <td>28.832106</td>\n",
       "      <td>02:33</td>\n",
       "    </tr>\n",
       "    <tr>\n",
       "      <td>1</td>\n",
       "      <td>3.099637</td>\n",
       "      <td>3.368491</td>\n",
       "      <td>0.389395</td>\n",
       "      <td>29.034672</td>\n",
       "      <td>02:36</td>\n",
       "    </tr>\n",
       "    <tr>\n",
       "      <td>2</td>\n",
       "      <td>3.026272</td>\n",
       "      <td>3.345938</td>\n",
       "      <td>0.395134</td>\n",
       "      <td>28.387203</td>\n",
       "      <td>02:35</td>\n",
       "    </tr>\n",
       "    <tr>\n",
       "      <td>3</td>\n",
       "      <td>2.957031</td>\n",
       "      <td>3.340635</td>\n",
       "      <td>0.400158</td>\n",
       "      <td>28.237061</td>\n",
       "      <td>02:36</td>\n",
       "    </tr>\n",
       "    <tr>\n",
       "      <td>4</td>\n",
       "      <td>2.889734</td>\n",
       "      <td>3.317404</td>\n",
       "      <td>0.402653</td>\n",
       "      <td>27.588633</td>\n",
       "      <td>02:36</td>\n",
       "    </tr>\n",
       "    <tr>\n",
       "      <td>5</td>\n",
       "      <td>2.860073</td>\n",
       "      <td>3.296495</td>\n",
       "      <td>0.408352</td>\n",
       "      <td>27.017780</td>\n",
       "      <td>02:36</td>\n",
       "    </tr>\n",
       "    <tr>\n",
       "      <td>6</td>\n",
       "      <td>2.826368</td>\n",
       "      <td>3.296686</td>\n",
       "      <td>0.410727</td>\n",
       "      <td>27.022947</td>\n",
       "      <td>02:36</td>\n",
       "    </tr>\n",
       "    <tr>\n",
       "      <td>7</td>\n",
       "      <td>2.775281</td>\n",
       "      <td>3.285991</td>\n",
       "      <td>0.415107</td>\n",
       "      <td>26.735472</td>\n",
       "      <td>02:36</td>\n",
       "    </tr>\n",
       "    <tr>\n",
       "      <td>8</td>\n",
       "      <td>2.677403</td>\n",
       "      <td>3.279908</td>\n",
       "      <td>0.418254</td>\n",
       "      <td>26.573339</td>\n",
       "      <td>02:37</td>\n",
       "    </tr>\n",
       "    <tr>\n",
       "      <td>9</td>\n",
       "      <td>2.669768</td>\n",
       "      <td>3.270891</td>\n",
       "      <td>0.419335</td>\n",
       "      <td>26.334805</td>\n",
       "      <td>02:36</td>\n",
       "    </tr>\n",
       "    <tr>\n",
       "      <td>10</td>\n",
       "      <td>2.668802</td>\n",
       "      <td>3.271312</td>\n",
       "      <td>0.422932</td>\n",
       "      <td>26.345882</td>\n",
       "      <td>02:36</td>\n",
       "    </tr>\n",
       "    <tr>\n",
       "      <td>11</td>\n",
       "      <td>2.614985</td>\n",
       "      <td>3.268579</td>\n",
       "      <td>0.423896</td>\n",
       "      <td>26.273977</td>\n",
       "      <td>02:36</td>\n",
       "    </tr>\n",
       "    <tr>\n",
       "      <td>12</td>\n",
       "      <td>2.581158</td>\n",
       "      <td>3.256128</td>\n",
       "      <td>0.428570</td>\n",
       "      <td>25.948870</td>\n",
       "      <td>02:39</td>\n",
       "    </tr>\n",
       "    <tr>\n",
       "      <td>13</td>\n",
       "      <td>2.576290</td>\n",
       "      <td>3.257246</td>\n",
       "      <td>0.428558</td>\n",
       "      <td>25.977909</td>\n",
       "      <td>02:37</td>\n",
       "    </tr>\n",
       "    <tr>\n",
       "      <td>14</td>\n",
       "      <td>2.523859</td>\n",
       "      <td>3.258229</td>\n",
       "      <td>0.428530</td>\n",
       "      <td>26.003458</td>\n",
       "      <td>02:37</td>\n",
       "    </tr>\n",
       "    <tr>\n",
       "      <td>15</td>\n",
       "      <td>2.491409</td>\n",
       "      <td>3.261096</td>\n",
       "      <td>0.429675</td>\n",
       "      <td>26.078096</td>\n",
       "      <td>02:38</td>\n",
       "    </tr>\n",
       "    <tr>\n",
       "      <td>16</td>\n",
       "      <td>2.412231</td>\n",
       "      <td>3.243325</td>\n",
       "      <td>0.435016</td>\n",
       "      <td>25.618769</td>\n",
       "      <td>02:37</td>\n",
       "    </tr>\n",
       "    <tr>\n",
       "      <td>17</td>\n",
       "      <td>2.303476</td>\n",
       "      <td>3.227225</td>\n",
       "      <td>0.440402</td>\n",
       "      <td>25.209599</td>\n",
       "      <td>02:38</td>\n",
       "    </tr>\n",
       "    <tr>\n",
       "      <td>18</td>\n",
       "      <td>2.205969</td>\n",
       "      <td>3.224657</td>\n",
       "      <td>0.442680</td>\n",
       "      <td>25.144938</td>\n",
       "      <td>02:38</td>\n",
       "    </tr>\n",
       "    <tr>\n",
       "      <td>19</td>\n",
       "      <td>2.156942</td>\n",
       "      <td>3.227403</td>\n",
       "      <td>0.443472</td>\n",
       "      <td>25.214094</td>\n",
       "      <td>02:37</td>\n",
       "    </tr>\n",
       "  </tbody>\n",
       "</table>"
      ],
      "text/plain": [
       "<IPython.core.display.HTML object>"
      ]
     },
     "metadata": {},
     "output_type": "display_data"
    }
   ],
   "source": [
    "lm_learn.unfreeze()\n",
    "lm_learn.fit_flat_cos(20,slice(5e-5, 5e-3))"
   ]
  },
  {
   "cell_type": "code",
   "execution_count": 34,
   "metadata": {},
   "outputs": [
    {
     "data": {
      "image/png": "[encoded data removed]",
      "text/plain": [
       "<Figure size 432x288 with 1 Axes>"
      ]
     },
     "metadata": {
      "needs_background": "light"
     },
     "output_type": "display_data"
    }
   ],
   "source": [
    "lm_learn.recorder.plot_loss()"
   ]
  },
  {
   "cell_type": "code",
   "execution_count": 36,
   "metadata": {},
   "outputs": [
    {
     "data": {
      "image/png": "[encoded data removed]",
      "text/plain": [
       "<Figure size 432x288 with 1 Axes>"
      ]
     },
     "metadata": {
      "needs_background": "light"
     },
     "output_type": "display_data"
    }
   ],
   "source": [
    "lm_learn.recorder.plot_sched()"
   ]
  },
  {
   "cell_type": "code",
   "execution_count": 37,
   "metadata": {},
   "outputs": [],
   "source": [
    "lm_learn.save(f'quest_lm_stg2_20e_ffc_5e-3_{date.today()}')"
   ]
  },
  {
   "cell_type": "code",
   "execution_count": 38,
   "metadata": {},
   "outputs": [],
   "source": [
    "my_model_path = Path('/home/morgan/ml/projects/kaggle_google_quest')"
   ]
  },
  {
   "cell_type": "markdown",
   "metadata": {},
   "source": [
    "### Extract the encoder weights from the model for use in the classifier model"
   ]
  },
  {
   "cell_type": "code",
   "execution_count": 39,
   "metadata": {},
   "outputs": [],
   "source": [
    "file = f'quest_lm_stg2_20e_ffc_5e-3_enc_{date.today()}'\n",
    "encoder = get_model(lm_learn.model)[0]\n",
    "if hasattr(encoder, 'module'): encoder = encoder.module\n",
    "torch.save(encoder.state_dict(), join_path_file(file,my_model_path, ext='.pth'))"
   ]
  },
  {
   "cell_type": "markdown",
   "metadata": {},
   "source": [
    "### Quick look at the fine-tuned LM predictions"
   ]
  },
  {
   "cell_type": "code",
   "execution_count": 40,
   "metadata": {
    "scrolled": true
   },
   "outputs": [
    {
     "data": {
      "text/html": [],
      "text/plain": [
       "<IPython.core.display.HTML object>"
      ]
     },
     "metadata": {},
     "output_type": "display_data"
    },
    {
     "data": {
      "text/html": [
       "<table border=\"1\" class=\"dataframe\">\n",
       "  <thead>\n",
       "    <tr style=\"text-align: right;\">\n",
       "      <th></th>\n",
       "      <th>input</th>\n",
       "      <th>target</th>\n",
       "      <th>pred</th>\n",
       "    </tr>\n",
       "  </thead>\n",
       "  <tbody>\n",
       "    <tr>\n",
       "      <th>0</th>\n",
       "      <td>▁xxbos ▁xxqts ▁xxmaj ▁what ▁are ▁the ▁advantages ▁and ▁disadvantages ▁of ▁thin ner ▁xxup xxunk xxunk ▁(&lt; 1. 6 ▁mm ▁or ▁0.0 63 xxunk ? ▁xxqte ▁xxqbs ▁xxmaj ▁what ▁are ▁the ▁advantages ▁and ▁disadvantages ▁of ▁thin ner ▁xxup xxunk xxunk ▁(&lt; 1. 6 ▁mm )? ▁xxnpg ▁xxnpg ▁xxmaj ▁my ▁approach : ▁xxwrep ▁3 ▁xxnpg ▁xxmaj ▁better xxunk ▁inter xxunk ▁and ▁better ▁power ▁dec ou pling . ▁xxnpg ▁xxmaj ▁better ▁track - xxunk xxunk</td>\n",
       "      <td>▁xxqts ▁xxmaj ▁what ▁are ▁the ▁advantages ▁and ▁disadvantages ▁of ▁thin ner ▁xxup xxunk xxunk ▁(&lt; 1. 6 ▁mm ▁or ▁0.0 63 xxunk ? ▁xxqte ▁xxqbs ▁xxmaj ▁what ▁are ▁the ▁advantages ▁and ▁disadvantages ▁of ▁thin ner ▁xxup xxunk xxunk ▁(&lt; 1. 6 ▁mm )? ▁xxnpg ▁xxnpg ▁xxmaj ▁my ▁approach : ▁xxwrep ▁3 ▁xxnpg ▁xxmaj ▁better xxunk ▁inter xxunk ▁and ▁better ▁power ▁dec ou pling . ▁xxnpg ▁xxmaj ▁better ▁track - xxunk xxunk .</td>\n",
       "      <td>▁xxqts ▁xxmaj ▁how ▁is ▁the ▁benefits ▁/ ▁disadvantages ▁of ▁\" , - ▁d ? ? div &gt; &gt; &gt; ▁xxup 8 90 )? ▁xxqte ▁xxqbs ▁xxmaj ▁i ▁is ▁the ▁best ▁of ▁disadvantages ▁of ▁the , - xxunk ? ? div &gt; &gt; &gt; ▁xxmaj ▁xxnpg ▁xxmaj ▁is ▁question ▁is ▁xxnpg ▁3 ▁xxnpg ▁xxmaj ▁the ▁model ▁the oper ▁with ▁higher . ? oder pling xxunk ▁xxnpg ▁xxmaj ▁the ▁quality ▁quality by ing ▁xxnpg</td>\n",
       "    </tr>\n",
       "    <tr>\n",
       "      <th>1</th>\n",
       "      <td>▁under ▁the ▁project ▁directory ▁and ▁copied ▁the ▁missing ▁shared ▁libraries ▁into ▁it . ▁xxmaj ▁you ▁can ▁get ▁this ▁information ▁by ▁running ▁l dd ▁path ▁/ ▁to ▁/ ▁executable ▁and ▁her ok u ▁run ▁l dd ▁path ▁/ ▁to ▁/ ▁executable ▁and ▁comparing ▁the ▁output . ▁xxnpg ▁xxnpg ▁i ▁then ▁did ▁her ok u ▁config : add ▁xxup ▁ld _ library _ path = . ▁/ ▁lib ▁so ▁when ▁the ▁application ▁is ▁started</td>\n",
       "      <td>▁the ▁project ▁directory ▁and ▁copied ▁the ▁missing ▁shared ▁libraries ▁into ▁it . ▁xxmaj ▁you ▁can ▁get ▁this ▁information ▁by ▁running ▁l dd ▁path ▁/ ▁to ▁/ ▁executable ▁and ▁her ok u ▁run ▁l dd ▁path ▁/ ▁to ▁/ ▁executable ▁and ▁comparing ▁the ▁output . ▁xxnpg ▁xxnpg ▁i ▁then ▁did ▁her ok u ▁config : add ▁xxup ▁ld _ library _ path = . ▁/ ▁lib ▁so ▁when ▁the ▁application ▁is ▁started ▁the</td>\n",
       "      <td>▁the ▁hood ▁name , ▁sub ▁to ▁files ▁files ▁libraries ▁into ▁the ' ▁xxnpg ▁this ▁can ▁see ▁the ▁information ▁by ▁setting : dd ▁/ ▁/ ▁to ▁/ ▁the ▁and ▁then ok u . xxunk dd ▁/ ▁/ ▁to ▁/ ▁executable ▁and ▁then ▁to ▁contents ▁of ▁xxnpg ▁xxnpg ▁xxmaj ▁have xxunk ▁a ▁own u ▁task : config ▁xxup ▁ld _ library _ path = ▁/ ▁/ ▁lib ▁/ ▁that ▁i ▁application ▁is ▁started ,</td>\n",
       "    </tr>\n",
       "    <tr>\n",
       "      <th>2</th>\n",
       "      <td>▁around . ▁xxmaj ▁as ▁tom tom ▁says , ▁you ▁need ▁to ▁update , ▁but ▁find ▁the ▁issue ▁and ▁disable ▁it ▁first , ▁or ▁you ▁may ▁drag ▁the xxunk ▁along ▁with ▁you . ▁xxnpg xxunk xxunk ▁xxup ▁technology xxunk . com ▁xxmaj ▁val xxunk ▁xxmaj ▁brass o ▁k mar sh ▁xxbos ▁xxqts ▁xxmaj ▁matching ▁xxmaj ▁gmail ▁filters ▁on ▁xxup ▁b cc ▁mail ▁xxqte ▁xxqbs ▁i ▁am ▁using ▁xxmaj ▁google ▁xxmaj ▁apps ▁for ▁xxmaj</td>\n",
       "      <td>. ▁xxmaj ▁as ▁tom tom ▁says , ▁you ▁need ▁to ▁update , ▁but ▁find ▁the ▁issue ▁and ▁disable ▁it ▁first , ▁or ▁you ▁may ▁drag ▁the xxunk ▁along ▁with ▁you . ▁xxnpg xxunk xxunk ▁xxup ▁technology xxunk . com ▁xxmaj ▁val xxunk ▁xxmaj ▁brass o ▁k mar sh ▁xxbos ▁xxqts ▁xxmaj ▁matching ▁xxmaj ▁gmail ▁filters ▁on ▁xxup ▁b cc ▁mail ▁xxqte ▁xxqbs ▁i ▁am ▁using ▁xxmaj ▁google ▁xxmaj ▁apps ▁for ▁xxmaj ▁domains</td>\n",
       "      <td>▁the ▁xxmaj ▁the ▁a ar ▁pointed , ▁\" ▁can ▁to ▁use ▁the ▁and ▁it ▁out ▁same . ▁not ▁the . . ▁then ▁re ▁can ▁want ▁a ▁whole ▁into ▁the ▁the . ▁xxnpg ▁xxnpg xxunk ▁xxup ▁technology xxunk . xxunk ▁xxmaj xxunk xxunk ▁xxmaj ▁p o ▁xxmaj ho ri ▁xxbos ▁xxqts ▁xxmaj ▁how ▁xxmaj ▁java ▁filters ▁in ▁xxmaj ▁fb dn ▁email ▁xxqte ▁xxqbs ▁i ▁have ▁using ▁xxmaj ▁google ▁xxmaj ▁apps ▁with ▁xxmaj ▁gmail</td>\n",
       "    </tr>\n",
       "    <tr>\n",
       "      <th>3</th>\n",
       "      <td>_ xxunk ▁cooking . xxunk . com ▁xxmaj ▁ky ra ▁xxmaj ▁michael ▁xxmaj ▁nat kin ▁xxbos ▁xxqts ▁xxmaj ▁update ▁ext js ▁xxmaj ▁panel ▁with ▁xxup ▁html ▁that ▁will ▁render ▁iframe ▁xxqte ▁xxqbs ▁i ▁have ▁an ▁app ▁with ▁several ▁tabs ▁written ▁in ▁ext js ▁4. ▁xxnpg ▁xxnpg ▁xxmaj ▁one ▁of ▁the ▁tabs ▁is ▁just ▁an ▁iframe . ▁i ▁create ▁it ▁like ▁this ▁and ▁it ▁works ▁fine . ▁xxnpg ▁xxnpg ▁x type : ▁'</td>\n",
       "      <td>xxunk ▁cooking . xxunk . com ▁xxmaj ▁ky ra ▁xxmaj ▁michael ▁xxmaj ▁nat kin ▁xxbos ▁xxqts ▁xxmaj ▁update ▁ext js ▁xxmaj ▁panel ▁with ▁xxup ▁html ▁that ▁will ▁render ▁iframe ▁xxqte ▁xxqbs ▁i ▁have ▁an ▁app ▁with ▁several ▁tabs ▁written ▁in ▁ext js ▁4. ▁xxnpg ▁xxnpg ▁xxmaj ▁one ▁of ▁the ▁tabs ▁is ▁just ▁an ▁iframe . ▁i ▁create ▁it ▁like ▁this ▁and ▁it ▁works ▁fine . ▁xxnpg ▁xxnpg ▁x type : ▁' tab</td>\n",
       "      <td>xxunk xxunk _ ▁xxnpg ▁xxnpg com xxunk xxunk ral ▁xxmaj ▁ma ▁xxmaj ▁ham kin ▁xxbos ▁xxqts ▁xxmaj ▁how ▁table 4 ▁to ▁issue ▁with ▁xxmaj xxunk 5 ▁xxup ▁be ▁on ▁xxqte ▁xxqbs ▁xxmaj ▁am ▁a ▁xxup ▁that ▁a ▁tabs . ▁in ▁xxup 4 ▁which ▁xxmaj ▁xxnpg ▁xxmaj ▁the ▁of ▁the xxunk ▁is ▁a ▁a xxunk . ▁xxmaj ▁want ▁a ▁in ▁this : ▁it ▁works ▁fine . ▁xxmaj ▁xxnpg ▁xxmaj hr : ▁' text</td>\n",
       "    </tr>\n",
       "    <tr>\n",
       "      <th>4</th>\n",
       "      <td>▁less ▁than ▁10 mb ▁of ▁data ; ▁about ▁the ▁storage ▁required ▁by ▁two ▁xxup ▁mp 3 ▁files , ▁and ▁about ▁250 k ▁records ▁per ▁person ▁per ▁lifetime , ▁if ▁we ▁gener ously ▁assume ▁everyone ▁makes ▁10 ▁transactions ▁a ▁day . ▁xxmaj ▁but ▁xxmaj ▁i ' d ▁be ▁happy ▁with ▁only ▁the ▁last ▁10 ▁years ▁of ▁transactions , ▁so ▁about ▁1 mb ▁per ▁customer . ▁xxmaj ▁one ▁of ▁the ▁largest ▁banks , ▁xxup</td>\n",
       "      <td>▁than ▁10 mb ▁of ▁data ; ▁about ▁the ▁storage ▁required ▁by ▁two ▁xxup ▁mp 3 ▁files , ▁and ▁about ▁250 k ▁records ▁per ▁person ▁per ▁lifetime , ▁if ▁we ▁gener ously ▁assume ▁everyone ▁makes ▁10 ▁transactions ▁a ▁day . ▁xxmaj ▁but ▁xxmaj ▁i ' d ▁be ▁happy ▁with ▁only ▁the ▁last ▁10 ▁years ▁of ▁transactions , ▁so ▁about ▁1 mb ▁per ▁customer . ▁xxmaj ▁one ▁of ▁the ▁largest ▁banks , ▁xxup ▁jp</td>\n",
       "      <td>▁than ▁2 mb ▁of ▁data . ▁about ▁the ▁storage ▁required ▁by ▁two ▁xxup ▁mp 3 ▁files , ▁and ▁about ▁250 k ▁records ▁per ▁person ▁per ▁lifetime , ▁if ▁we ▁were ously ▁assume ▁everyone ▁makes ▁10 ▁transactions ▁a ▁day . ▁xxmaj ▁but ▁it ▁i ' m ▁say ▁happy ▁with ▁only ▁the ▁last ▁10 ▁years ▁of ▁transactions , ▁so ▁about ▁1 mb ▁per ▁customer . ▁xxmaj ▁one ▁of ▁the ▁largest ▁banks , ▁xxup ▁jp</td>\n",
       "    </tr>\n",
       "    <tr>\n",
       "      <th>5</th>\n",
       "      <td>▁hope ▁i ▁can ▁present ▁my ▁question ▁in ▁a ▁manner ▁that ▁allows ▁me ▁to ▁get ▁some ▁support . ▁i ▁am ▁creating ▁a ▁xxmaj ▁lead ▁validation ▁rule ▁that ▁in ▁ess ence ▁is ▁3 ▁t iers ▁i . e . ▁if ▁tier ▁1 ▁is ▁selected ▁require ▁that ▁tier ▁2 ▁is ▁selected ▁and ▁if ▁this ▁value ▁in ▁tier ▁2 ▁is ▁selected ▁require ▁tier ▁3 ▁text ▁to ▁be ▁completed . ▁xxmaj ▁here ▁are ▁my xxunk ▁requirements ▁xxnpg</td>\n",
       "      <td>▁i ▁can ▁present ▁my ▁question ▁in ▁a ▁manner ▁that ▁allows ▁me ▁to ▁get ▁some ▁support . ▁i ▁am ▁creating ▁a ▁xxmaj ▁lead ▁validation ▁rule ▁that ▁in ▁ess ence ▁is ▁3 ▁t iers ▁i . e . ▁if ▁tier ▁1 ▁is ▁selected ▁require ▁that ▁tier ▁2 ▁is ▁selected ▁and ▁if ▁this ▁value ▁in ▁tier ▁2 ▁is ▁selected ▁require ▁tier ▁3 ▁text ▁to ▁be ▁completed . ▁xxmaj ▁here ▁are ▁my xxunk ▁requirements ▁xxnpg ▁xxnpg</td>\n",
       "      <td>▁this ▁got ▁help ▁this ▁question . ▁the ▁comment ▁that ▁makes ▁me ▁to ▁understand ▁a ▁of . ▁xxnpg ▁am ▁also ▁a ▁xxmaj ▁new ▁page ▁that ▁that ▁is ▁my ence ▁is ▁a ▁times iers ▁i . e . ▁if ▁i ▁1 ▁is ▁selected ▁( ▁that ▁i ▁2 ▁will ▁selected . ▁that ▁i ▁is ▁is ▁group ▁2 ▁is ▁selected , ▁that ▁3 ▁to ▁to ▁be ▁selected . ▁xxmaj ▁so ▁is ▁my ▁options ▁options : ▁xxnpg</td>\n",
       "    </tr>\n",
       "    <tr>\n",
       "      <th>6</th>\n",
       "      <td>▁\\ ▁begin { align } ▁\\ ▁ce { ▁xxnpg ▁c xxunk ▁[ bc xxunk ▁\\ xxunk } ▁-&gt; ▁&amp;&amp; ▁b xxunk ▁[ bd xxunk ▁\\ xxunk } ▁-&gt; ▁d ▁\\ ▁\\ ▁xxnpg ▁d xxunk ▁[ bd xxunk ▁\\ xxunk } ▁-&gt; ▁&amp;&amp; ▁b xxunk ▁[ bc xxunk ▁\\ xxunk } ▁-&gt; ▁c ▁\\ ▁\\ ▁xxnpg ▁c xxunk ▁&amp;&amp; ▁b xxunk ▁xxup ▁d , ▁xxnpg ▁} ▁\\ ▁end { align } ▁xxnpg ▁and</td>\n",
       "      <td>▁begin { align } ▁\\ ▁ce { ▁xxnpg ▁c xxunk ▁[ bc xxunk ▁\\ xxunk } ▁-&gt; ▁&amp;&amp; ▁b xxunk ▁[ bd xxunk ▁\\ xxunk } ▁-&gt; ▁d ▁\\ ▁\\ ▁xxnpg ▁d xxunk ▁[ bd xxunk ▁\\ xxunk } ▁-&gt; ▁&amp;&amp; ▁b xxunk ▁[ bc xxunk ▁\\ xxunk } ▁-&gt; ▁c ▁\\ ▁\\ ▁xxnpg ▁c xxunk ▁&amp;&amp; ▁b xxunk ▁xxup ▁d , ▁xxnpg ▁} ▁\\ ▁end { align } ▁xxnpg ▁and ▁xxnpg</td>\n",
       "      <td>xxunk { align } ▁xxnpg xxunk { h ▁\\ xxunk ▁\\ ▁\\ ] ▁xxnpg xxunk } ▁\\ ▁xxup ▁\\ xxunk c a ] ▁xxnpg xxunk } ▁&amp;&amp; ▁xxup xxunk xxunk ▁xxnpg ▁xxmaj xxunk ▁\\ a ] ▁xxnpg xxunk } ▁&amp;&amp; ▁xxup ▁xxnpg xxunk c a ] ▁xxnpg xxunk } ▁&amp;&amp; ▁xxup xxunk ▁circ ▁xxnpg ▁g xxunk ▁\\ ▁\\ xxunk c ▁c xxunk ▁\\ ▁\\ ▁xxnpg ▁\\ { align } ▁xxnpg ▁xxnpg ▁xxnpg</td>\n",
       "    </tr>\n",
       "    <tr>\n",
       "      <th>7</th>\n",
       "      <td>▁j )) ▁xxnpg ▁{ ▁xxnpg ▁success ▁= ▁false ; ▁xxnpg ▁break ; ▁xxnpg ▁} ▁xxnpg ▁} ▁xxnpg ▁if ▁( success ) ▁return ▁true ; ▁xxnpg ▁xxnpg ▁success ▁= ▁true ; ▁xxnpg ▁xxnpg ▁for ▁( int ▁j ▁= ▁1; ▁j ▁&lt; ▁l ; ▁++ j ) ▁xxnpg ▁{ ▁xxnpg ▁if ▁xxrep ▁3 ▁( ▁char ) ▁c ▁- ▁j ) ▁!= ▁txt . xxunk ( i ▁+ ▁j )) ▁xxnpg ▁{ ▁xxnpg ▁success ▁=</td>\n",
       "      <td>)) ▁xxnpg ▁{ ▁xxnpg ▁success ▁= ▁false ; ▁xxnpg ▁break ; ▁xxnpg ▁} ▁xxnpg ▁} ▁xxnpg ▁if ▁( success ) ▁return ▁true ; ▁xxnpg ▁xxnpg ▁success ▁= ▁true ; ▁xxnpg ▁xxnpg ▁for ▁( int ▁j ▁= ▁1; ▁j ▁&lt; ▁l ; ▁++ j ) ▁xxnpg ▁{ ▁xxnpg ▁if ▁xxrep ▁3 ▁( ▁char ) ▁c ▁- ▁j ) ▁!= ▁txt . xxunk ( i ▁+ ▁j )) ▁xxnpg ▁{ ▁xxnpg ▁success ▁= ▁false</td>\n",
       "      <td>ou ▁xxnpg ▁xxnpg ▁xxnpg ▁} : ▁function ; ▁xxnpg ▁} ; ▁xxnpg ▁} ▁xxnpg ▁xxnpg ▁xxwrep ▁xxnpg ▁( run ) ▁xxnpg ; ; ▁xxnpg ▁xxnpg xxunk (); ▁function ; ▁xxnpg ▁xxnpg xxunk ▁( i ▁i ▁= ▁0; ▁j ▁&lt;= ▁n ; ▁j i ) ▁{ ▁{ ▁xxnpg ▁if ▁( ▁3 ▁( ▁j *) m ▁+ ▁1 ) ▁/ ▁null xxunk tostring ▁xxrep j ) ▁1) ) ▁xxnpg ▁{ ▁xxnpg ▁if . ▁new</td>\n",
       "    </tr>\n",
       "    <tr>\n",
       "      <th>8</th>\n",
       "      <td>▁xxmaj ▁path ▁xxmaj ▁selection ▁tool ▁( a ), ▁then ▁press ▁command - c ▁to ▁copy ▁it . ▁xxnpg ▁xxnpg ▁xxmaj ▁then ▁go ▁to ▁the ▁bitmap ▁layer ▁you ' d ▁like ▁to ▁apply ▁the ▁vector ▁mask ▁to , ▁and ▁press ▁command - v ▁to ▁paste . ▁xxwrep ▁4 ▁xxnpg ▁xxmaj ▁then ▁choose ▁xxmaj ▁layer ▁&gt; ▁xxmaj ▁vector ▁xxmaj ▁mask ▁&gt; ▁xxmaj ▁current ▁xxmaj ▁path ▁to ▁use ▁the ▁path ▁as ▁the ▁mask ▁( this</td>\n",
       "      <td>▁path ▁xxmaj ▁selection ▁tool ▁( a ), ▁then ▁press ▁command - c ▁to ▁copy ▁it . ▁xxnpg ▁xxnpg ▁xxmaj ▁then ▁go ▁to ▁the ▁bitmap ▁layer ▁you ' d ▁like ▁to ▁apply ▁the ▁vector ▁mask ▁to , ▁and ▁press ▁command - v ▁to ▁paste . ▁xxwrep ▁4 ▁xxnpg ▁xxmaj ▁then ▁choose ▁xxmaj ▁layer ▁&gt; ▁xxmaj ▁vector ▁xxmaj ▁mask ▁&gt; ▁xxmaj ▁current ▁xxmaj ▁path ▁to ▁use ▁the ▁path ▁as ▁the ▁mask ▁( this ▁was</td>\n",
       "      <td>▁the : xxunk ▁/ ▁xxnpg the ▁default ▁( ▁the ▁xxup ▁/ c . ▁select ▁the , ▁xxnpg ▁xxnpg ▁xxmaj ▁the , ▁to ▁the ▁xxmaj ▁editor ▁and ' re ▁like ▁to ▁add ▁to ▁same ▁to ▁to ▁the ▁and ▁then ▁ctrl - c . ▁select ▁the ▁xxnpg ▁4 ▁xxnpg ▁xxmaj ▁the , ▁xxmaj ▁select ▁&gt; ▁xxmaj ▁properties ▁xxmaj ▁style ▁and ▁xxmaj ▁mode ▁xxmaj ▁mode . ▁select ▁the ▁xxmaj ▁and ▁the ▁target ▁and the ▁is</td>\n",
       "    </tr>\n",
       "  </tbody>\n",
       "</table>"
      ],
      "text/plain": [
       "<IPython.core.display.HTML object>"
      ]
     },
     "metadata": {},
     "output_type": "display_data"
    }
   ],
   "source": [
    "lm_learn.show_results()"
   ]
  }
 ],
 "metadata": {
  "kernelspec": {
   "display_name": "Python 3",
   "language": "python",
   "name": "python3"
  },
  "language_info": {
   "codemirror_mode": {
    "name": "ipython",
    "version": 3
   },
   "file_extension": ".py",
   "mimetype": "text/x-python",
   "name": "python",
   "nbconvert_exporter": "python",
   "pygments_lexer": "ipython3",
   "version": "3.7.6"
  }
 },
 "nbformat": 4,
 "nbformat_minor": 2
}
