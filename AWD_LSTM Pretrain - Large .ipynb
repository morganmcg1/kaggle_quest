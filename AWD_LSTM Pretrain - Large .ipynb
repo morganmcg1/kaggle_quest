{
 "cells": [
  {
   "cell_type": "markdown",
   "metadata": {},
   "source": [
    "Latest pytorch broke the dataloader, need to downgrade:\n",
    "`conda install pytorch=1.3 torchvision=0.4.2 cudatoolkit=10.1 -c pytorch`"
   ]
  },
  {
   "cell_type": "markdown",
   "metadata": {},
   "source": [
    "https://forums.fast.ai/t/fastai-v2-chat/53518/638\n",
    "    \n",
    "Yes. Since my datasets are in portuguese, I used the multilingual models from transformers (Bert multilingual, Xlm 17 and Xlm-Roberta), using fastai2 as the framework for data, learner and training loop.\n",
    "\n",
    "I am getting better results with AWD-LSTM with 15k tokens Sentencepiece and Label Smoothing Crossentropy Loss for the Language model finetuning and Classifier.\n",
    "\n",
    "I suspect the 15k tokens for SP, inspired on the MultiFIT paper (I was using 32k before and getting worse results), the Label Smoothing for the domain finetune and classification, and the new pad_input_chunk (fastai2) for the padding in the classification are the main suspects for the boost.\n",
    "\n",
    "I am not using the backward model yet, which I suspect would improve further the results.\n",
    "\n",
    "NEXT POST: \n",
    "\n",
    "For training the language models on wikipedia, I used almost exactly the same parameters @pierreguillou used in his notebooks (https://github.com/piegu/language-models/blob/master/lm3-portuguese.ipynb 6), but i got better results with LSTM than with QRNN. I kept the same number of tokens for the entire corpora, the same wd values, dropouts, number of epochs as his. The only different parameter is that I used the default LSTM config:\n",
    "\n",
    "{‘emb_sz’: 400,\n",
    "‘n_hid’: 1152,\n",
    "‘n_layers’: 3,\n",
    "‘pad_token’: 1,\n",
    "‘qrnn’: False,\n",
    "‘bidir’: False,\n",
    "‘output_p’: 0.1,\n",
    "‘hidden_p’: 0.15,\n",
    "‘input_p’: 0.25,\n",
    "‘embed_p’: 0.02,\n",
    "‘weight_p’: 0.2,\n",
    "‘tie_weights’: True,\n",
    "‘out_bias’: True}\n",
    "\n",
    "For clarification, I trained the portuguese Language Model using fastai v1. And then finetuned to the domain corpora and trained the classification model using fastai2. For the moms in fastai2, I always used moms=(0.8,0.7,0.8) and the pad_input_chunk for the classification dataloader. For the rest, I used the same parameters as his TCU classification notebook.\n",
    "\n",
    "Now I am trying to adapt my code to finetune (using fastai2) a backward version of an analog protuguese Language Model I trained using fastai v1.\n",
    "\n",
    "\n",
    "NEXT POST:\n",
    "\n",
    "def backwards(tokens):\n",
    "    return tokens.flip(0)\n",
    "\n",
    "tfms = [attrgetter(\"text\"), Tokenizer(tokenizer=sp), Numericalize(vocab), backwards]\n",
    "splits = RandomSplitter(valid_pct=0.1, seed=42)(df)\n",
    "\n",
    "dsrc = Datasets(df, [tfms], splits=splits, dl_type=LMDataLoader)\n",
    "\n",
    "REPLY: \n",
    "\n",
    "Nice and easy, I like it!\n",
    "\n",
    "Edit: Not too sure it works well with the pad_input_chunks directly, I think you might need to do it the other way (so pad_first=False) to make sure it works as intended."
   ]
  },
  {
   "cell_type": "markdown",
   "metadata": {},
   "source": [
    "### fastai wiki training scripts\n",
    "https://github.com/fastai/fastai/tree/master/courses/dl2/imdb_scripts"
   ]
  },
  {
   "cell_type": "code",
   "execution_count": 1,
   "metadata": {},
   "outputs": [],
   "source": [
    "%reload_ext autoreload\n",
    "%autoreload 2\n",
    "\n",
    "from fastai2.basics import *\n",
    "from fastai2.text.all import *\n",
    "from fastai2.callback.all import *\n",
    "import gc\n",
    "\n",
    "from tqdm import tqdm\n",
    "import wandb\n",
    "#from wandb.fastai import WandbCallback\n",
    "from fastai2.callback.wandb import *\n",
    "\n",
    "from datetime import date\n",
    "#wandb.init(project=\"kaggle_google_question_wandb\")"
   ]
  },
  {
   "cell_type": "markdown",
   "metadata": {},
   "source": [
    "# Load data"
   ]
  },
  {
   "cell_type": "code",
   "execution_count": 2,
   "metadata": {},
   "outputs": [
    {
     "name": "stdout",
     "output_type": "stream",
     "text": [
      "Nans frac: 0.0\n",
      "Total rows : 0.207581M\n",
      "Total character count : 846.918289M\n",
      "\n",
      "             char_count\n",
      "source                 \n",
      "stacksample    0.173837\n",
      "tf2qa          0.181378\n",
      "wiki103        0.644786\n",
      "\n"
     ]
    },
    {
     "data": {
      "text/html": [
       "<div>\n",
       "<style scoped>\n",
       "    .dataframe tbody tr th:only-of-type {\n",
       "        vertical-align: middle;\n",
       "    }\n",
       "\n",
       "    .dataframe tbody tr th {\n",
       "        vertical-align: top;\n",
       "    }\n",
       "\n",
       "    .dataframe thead th {\n",
       "        text-align: right;\n",
       "    }\n",
       "</style>\n",
       "<table border=\"1\" class=\"dataframe\">\n",
       "  <thead>\n",
       "    <tr style=\"text-align: right;\">\n",
       "      <th></th>\n",
       "      <th>doc</th>\n",
       "      <th>source</th>\n",
       "      <th>char_count</th>\n",
       "    </tr>\n",
       "  </thead>\n",
       "  <tbody>\n",
       "    <tr>\n",
       "      <th>0</th>\n",
       "      <td>xxars xxh1s Valkyria Chronicles III  xxh1e xxnpg  Senjō no Valkyria 3 : Unrecorded Chronicles ( Japanese : 戦場のヴァルキュリア3 , lit . Valkyria of the Battlefield 3 ) , commonly referred to as Valkyria Chronicles III outside Japan , is a tactical role @-@ playing video game developed by Sega and Media.Vision for the PlayStation Portable . Released in January 2011 in Japan , it is the third game in the Valkyria series . Employing the same fusion of tactical and real @-@ time gameplay as its predecessors , the story runs parallel to the first game and follows the \" Nameless \" , a penal military unit...</td>\n",
       "      <td>wiki103</td>\n",
       "      <td>21104</td>\n",
       "    </tr>\n",
       "    <tr>\n",
       "      <th>1</th>\n",
       "      <td>xxars xxh1s Tower Building of the Little Rock Arsenal  xxh1e xxnpg  The Tower Building of the Little Rock Arsenal , also known as U.S. Arsenal Building , is a building located in MacArthur Park in downtown Little Rock , Arkansas . Built in 1840 , it was part of Little Rock 's first military installation . Since its decommissioning , The Tower Building has housed two museums . It was home to the Arkansas Museum of Natural History and Antiquities from 1942 to 1997 and the MacArthur Museum of Arkansas Military History since 2001 . It has also been the headquarters of the Little Rock Æsthetic ...</td>\n",
       "      <td>wiki103</td>\n",
       "      <td>21870</td>\n",
       "    </tr>\n",
       "    <tr>\n",
       "      <th>2</th>\n",
       "      <td>xxars xxh1s Cicely Mary Barker  xxh1e xxnpg  Cicely Mary Barker ( 28 June 1895 – 16 February 1973 ) was an English illustrator best known for a series of fantasy illustrations depicting fairies and flowers . Barker 's art education began in girlhood with correspondence courses and instruction at the Croydon School of Art . Her earliest professional work included greeting cards and juvenile magazine illustrations , and her first book , Flower Fairies of the Spring , was published in 1923 . Similar books were published in the following decades . xxnpg  Barker was a devout Anglican , and dona...</td>\n",
       "      <td>wiki103</td>\n",
       "      <td>16713</td>\n",
       "    </tr>\n",
       "    <tr>\n",
       "      <th>3</th>\n",
       "      <td>xxars xxh1s Gambia women 's national football team  xxh1e xxnpg  The Gambia women 's national football team represents the Gambia in international football competition . The team , however , has not competed in a match recognised by FIFA , the sport 's international governing body , despite that organised women 's football has been played in the country since 1998 . The Gambia has two youth teams , an under @-@ 17 side that has competed in FIFA U @-@ 17 Women 's World Cup qualifiers , and an under @-@ 19 side that withdrew from regional qualifiers for an under @-@ 19 World Cup . The develo...</td>\n",
       "      <td>wiki103</td>\n",
       "      <td>3735</td>\n",
       "    </tr>\n",
       "    <tr>\n",
       "      <th>4</th>\n",
       "      <td>xxars xxh1s Plain maskray  xxh1e xxnpg  The plain maskray or brown stingray ( Neotrygon annotata ) is a species of stingray in the family Dasyatidae . It is found in shallow , soft @-@ bottomed habitats off northern Australia . Reaching 24 cm ( 9 @.@ 4 in ) in width , this species has a diamond @-@ shaped , grayish green pectoral fin disc . Its short , whip @-@ like tail has alternating black and white bands and fin folds above and below . There are short rows of thorns on the back and the base of the tail , but otherwise the skin is smooth . While this species possesses the dark mask @-@ ...</td>\n",
       "      <td>wiki103</td>\n",
       "      <td>7085</td>\n",
       "    </tr>\n",
       "  </tbody>\n",
       "</table>\n",
       "</div>"
      ],
      "text/plain": [
       "                                                                                                                                                                                                                                                                                                                                                                                                                                                                                                                                                                                                                       doc  \\\n",
       "0  xxars xxh1s Valkyria Chronicles III  xxh1e xxnpg  Senjō no Valkyria 3 : Unrecorded Chronicles ( Japanese : 戦場のヴァルキュリア3 , lit . Valkyria of the Battlefield 3 ) , commonly referred to as Valkyria Chronicles III outside Japan , is a tactical role @-@ playing video game developed by Sega and Media.Vision for the PlayStation Portable . Released in January 2011 in Japan , it is the third game in the Valkyria series . Employing the same fusion of tactical and real @-@ time gameplay as its predecessors , the story runs parallel to the first game and follows the \" Nameless \" , a penal military unit...   \n",
       "1  xxars xxh1s Tower Building of the Little Rock Arsenal  xxh1e xxnpg  The Tower Building of the Little Rock Arsenal , also known as U.S. Arsenal Building , is a building located in MacArthur Park in downtown Little Rock , Arkansas . Built in 1840 , it was part of Little Rock 's first military installation . Since its decommissioning , The Tower Building has housed two museums . It was home to the Arkansas Museum of Natural History and Antiquities from 1942 to 1997 and the MacArthur Museum of Arkansas Military History since 2001 . It has also been the headquarters of the Little Rock Æsthetic ...   \n",
       "2  xxars xxh1s Cicely Mary Barker  xxh1e xxnpg  Cicely Mary Barker ( 28 June 1895 – 16 February 1973 ) was an English illustrator best known for a series of fantasy illustrations depicting fairies and flowers . Barker 's art education began in girlhood with correspondence courses and instruction at the Croydon School of Art . Her earliest professional work included greeting cards and juvenile magazine illustrations , and her first book , Flower Fairies of the Spring , was published in 1923 . Similar books were published in the following decades . xxnpg  Barker was a devout Anglican , and dona...   \n",
       "3  xxars xxh1s Gambia women 's national football team  xxh1e xxnpg  The Gambia women 's national football team represents the Gambia in international football competition . The team , however , has not competed in a match recognised by FIFA , the sport 's international governing body , despite that organised women 's football has been played in the country since 1998 . The Gambia has two youth teams , an under @-@ 17 side that has competed in FIFA U @-@ 17 Women 's World Cup qualifiers , and an under @-@ 19 side that withdrew from regional qualifiers for an under @-@ 19 World Cup . The develo...   \n",
       "4  xxars xxh1s Plain maskray  xxh1e xxnpg  The plain maskray or brown stingray ( Neotrygon annotata ) is a species of stingray in the family Dasyatidae . It is found in shallow , soft @-@ bottomed habitats off northern Australia . Reaching 24 cm ( 9 @.@ 4 in ) in width , this species has a diamond @-@ shaped , grayish green pectoral fin disc . Its short , whip @-@ like tail has alternating black and white bands and fin folds above and below . There are short rows of thorns on the back and the base of the tail , but otherwise the skin is smooth . While this species possesses the dark mask @-@ ...   \n",
       "\n",
       "    source  char_count  \n",
       "0  wiki103       21104  \n",
       "1  wiki103       21870  \n",
       "2  wiki103       16713  \n",
       "3  wiki103        3735  \n",
       "4  wiki103        7085  "
      ]
     },
     "execution_count": 2,
     "metadata": {},
     "output_type": "execute_result"
    }
   ],
   "source": [
    "lm_data = pd.read_feather(f'data/lm_data_2020-02-04.ftr')\n",
    "\n",
    "print(f'Nans frac: {lm_data.isna().doc.sum() / len(lm_data)}')\n",
    "print(f'Total rows : {len(lm_data)/1000000}M')\n",
    "print(f'Total character count : {lm_data.char_count.sum()/1000000}M')\n",
    "print()\n",
    "print(lm_data.groupby('source').sum() / lm_data.char_count.sum())\n",
    "print()\n",
    "lm_data.head()"
   ]
  },
  {
   "cell_type": "markdown",
   "metadata": {},
   "source": [
    "### Reduce data size"
   ]
  },
  {
   "cell_type": "code",
   "execution_count": 3,
   "metadata": {},
   "outputs": [
    {
     "name": "stdout",
     "output_type": "stream",
     "text": [
      "There are roughly 171.141752M words\n"
     ]
    }
   ],
   "source": [
    "lm_data['word_count'] = lm_data['doc'].str.count(' ') + 1\n",
    "print(f'There are roughly {lm_data[\"word_count\"].sum()/1000000}M words')"
   ]
  },
  {
   "cell_type": "code",
   "execution_count": 4,
   "metadata": {},
   "outputs": [],
   "source": [
    "lm_data = lm_data.sample(frac=0.65).copy()"
   ]
  },
  {
   "cell_type": "markdown",
   "metadata": {},
   "source": [
    "### Create Train/Val split"
   ]
  },
  {
   "cell_type": "code",
   "execution_count": 5,
   "metadata": {},
   "outputs": [
    {
     "name": "stdout",
     "output_type": "stream",
     "text": [
      "114689\n",
      "Train len : 114689\n",
      "             char_count  word_count\n",
      "source                             \n",
      "stacksample    0.174694    0.034021\n",
      "tf2qa          0.178374    0.045453\n",
      "wiki103        0.646932    0.122461\n",
      "\n",
      "Val len : 20239\n",
      "             char_count  word_count\n",
      "source                             \n",
      "stacksample    0.172497    0.033592\n",
      "tf2qa          0.191655    0.049174\n",
      "wiki103        0.635848    0.120314\n"
     ]
    },
    {
     "data": {
      "text/plain": [
       "0"
      ]
     },
     "execution_count": 5,
     "metadata": {},
     "output_type": "execute_result"
    }
   ],
   "source": [
    "train_idx = int(round(len(lm_data) * 0.85,0))\n",
    "\n",
    "print(train_idx)\n",
    "# Shuffle data\n",
    "lm_data = lm_data.sample(frac=1)\n",
    "\n",
    "trn_df = lm_data.iloc[:train_idx, :].copy()\n",
    "val_df = lm_data.iloc[train_idx:, :].copy()\n",
    "all_df = pd.concat([trn_df,val_df])\n",
    "\n",
    "print(f'Train len : {len(trn_df)}')\n",
    "print(trn_df.groupby('source').sum() / trn_df.char_count.sum())\n",
    "print()\n",
    "\n",
    "print(f'Val len : {len(val_df)}')\n",
    "print(val_df.groupby('source').sum() / val_df.char_count.sum())\n",
    "\n",
    "# Delete original dataset\n",
    "del lm_data\n",
    "gc.collect()"
   ]
  },
  {
   "cell_type": "markdown",
   "metadata": {},
   "source": [
    "#### Grab small sample"
   ]
  },
  {
   "cell_type": "code",
   "execution_count": 6,
   "metadata": {},
   "outputs": [],
   "source": [
    "# n_train = 500\n",
    "# n_val = 75\n",
    "# trn_df = trn_df.iloc[:n_train,:].copy()\n",
    "# val_df = val_df.iloc[:n_val,:].copy()\n",
    "\n",
    "# all_df = pd.concat([trn_df,val_df])"
   ]
  },
  {
   "cell_type": "markdown",
   "metadata": {},
   "source": [
    "## Set up Tokenizer, Dataset and Dataloader"
   ]
  },
  {
   "cell_type": "code",
   "execution_count": 10,
   "metadata": {},
   "outputs": [],
   "source": [
    "def mmg_get_tokenizer(tok_func=SentencePieceTokenizer, **kwargs):\n",
    "    sign = inspect.signature(tok_func)    \n",
    "    for k in list(kwargs.keys()):\n",
    "        # OLD: if not k in sign: kwargs.pop(k)\n",
    "        if not k in str(sign): kwargs.pop(k)        \n",
    "    return tok_func(**kwargs)\n",
    "    \n",
    "class mmgTokenizer(Tokenizer):\n",
    "    @classmethod\n",
    "    @delegates(tokenize_df, keep=True)\n",
    "    def from_df(cls, text_cols, tok_func=SpacyTokenizer, **kwargs):\n",
    "        # Custom mmg_get_tokenizer function here:\n",
    "        res = cls(mmg_get_tokenizer(tok_func, **kwargs), mode='df')\n",
    "        res.text_cols,res.kwargs,res.train_setup = text_cols,merge({'tok_func': tok_func}, kwargs),False\n",
    "        return res\n",
    "    \n",
    "class mmgSentencePieceTokenizer(SentencePieceTokenizer):  \n",
    "    def train(self, raw_text_path):\n",
    "        \"Train a sentencepiece tokenizer on `texts` and save it in `path/tmp_dir`\"\n",
    "        from sentencepiece import SentencePieceTrainer\n",
    "        vocab_sz = self._get_vocab_sz(raw_text_path) if self.vocab_sz is None else self.vocab_sz\n",
    "        print(f'vocab_sz is {vocab_sz}')\n",
    "        \n",
    "        spec_tokens = ['\\u2581'+s for s in self.special_toks]\n",
    "        \n",
    "        #print(spec_tokens)\n",
    "        SentencePieceTrainer.Train(\" \".join([\n",
    "            f\"--input={raw_text_path} --vocab_size={vocab_sz} --model_prefix={self.cache_dir/'spm'}\",\n",
    "            f\"--character_coverage={self.char_coverage} --model_type={self.model_type}\",\n",
    "            f\"--unk_id={len(spec_tokens)} --pad_id=-1 --bos_id=-1 --eos_id=-1\",\n",
    "            f\"--user_defined_symbols={','.join(spec_tokens)}\"   ,   \n",
    "            \"--hard_vocab_limit=false\"   # MORGAN ADDED HERE AS PER https://github.com/google/sentencepiece/issues/226\n",
    "        ]))\n",
    "        raw_text_path.unlink()\n",
    "        return self.cache_dir/'spm.model'\n",
    "    \n",
    "    \n",
    "    def setup(self, items, rules):\n",
    "        #print('fastai rules used:')\n",
    "        #for r in rules:\n",
    "            #print(r)\n",
    "            #print(inspect.signature(r)) \n",
    "\n",
    "        if self.tok is not None: return {'sp_model': self.sp_model}\n",
    "        raw_text_path = self.cache_dir/'texts.out'\n",
    "        with open(raw_text_path, 'w') as f:\n",
    "            for t in progress_bar(maps(*rules, items), total=len(items), leave=False):\n",
    "                f.write(f'{t}\\n')\n",
    "        print(raw_text_path)\n",
    "        return {'sp_model': self.train(raw_text_path)}"
   ]
  },
  {
   "cell_type": "markdown",
   "metadata": {},
   "source": [
    "#### Sentencepiece notes\n",
    "\\u2581 = _\n",
    "\n",
    "### Addition Special Tokens besides the fastai ones\n",
    "'xxnpg' : New Paragraph\n",
    "\n",
    "'xxqts' : Question Title Start\n",
    "\n",
    "'xxqte' : Question Title End\n",
    "\n",
    "'xxqbs' : Question Body Start\n",
    "\n",
    "'xxqbe' : Question Body End\n",
    "\n",
    "'xxans' : Answer Body Start\n",
    "\n",
    "'xxane' : Answer Body End\n",
    "\n",
    "'xxars' : Article Start\n",
    "\n",
    "'xxare' : Article End\n",
    "\n",
    "'xxh1s' : Header 1 Start\n",
    "\n",
    "'xxh2s' : \n",
    "\n",
    "'xxh3s' :\n",
    "\n",
    "'xxh4s' : \n",
    "\n",
    "'xxh5s' :\n",
    "\n",
    "'xxh1e' : Header 1 End\n",
    "\n",
    "'xxh2e' :\n",
    "\n",
    "'xxh3e' : \n",
    "\n",
    "'xxh4e' :\n",
    "\n",
    "'xxh5e' :\n",
    "\n",
    "'xxcls' : Class/Category/Tag"
   ]
  },
  {
   "cell_type": "code",
   "execution_count": 8,
   "metadata": {},
   "outputs": [
    {
     "data": {
      "text/plain": [
       "['xxunk',\n",
       " 'xxpad',\n",
       " 'xxbos',\n",
       " 'xxeos',\n",
       " 'xxfld',\n",
       " 'xxrep',\n",
       " 'xxwrep',\n",
       " 'xxup',\n",
       " 'xxmaj',\n",
       " 'xxnpg',\n",
       " 'xxqts',\n",
       " 'xxqte',\n",
       " 'xxqbs',\n",
       " 'xxqbe',\n",
       " 'xxans',\n",
       " 'xxane',\n",
       " 'xxars',\n",
       " 'xxare',\n",
       " 'xxh1s',\n",
       " 'xxh2s',\n",
       " 'xxh3s',\n",
       " 'xxh4s',\n",
       " 'xxh5s',\n",
       " 'xxh1e',\n",
       " 'xxh2e',\n",
       " 'xxh3e',\n",
       " 'xxh4e',\n",
       " 'xxh5e']"
      ]
     },
     "execution_count": 8,
     "metadata": {},
     "output_type": "execute_result"
    }
   ],
   "source": [
    "additional_special_toks = ['xxnpg', 'xxqts', 'xxqte', 'xxqbs','xxqbe','xxans','xxane','xxars','xxare',\n",
    "                'xxh1s','xxh2s','xxh3s','xxh4s','xxh5s',\n",
    "                'xxh1e','xxh2e','xxh3e','xxh4e','xxh5e']\n",
    "\n",
    "all_special_toks = defaults.text_spec_tok + additional_special_toks\n",
    "all_special_toks"
   ]
  },
  {
   "cell_type": "markdown",
   "metadata": {},
   "source": [
    "### Create dataloaders"
   ]
  },
  {
   "cell_type": "code",
   "execution_count": 11,
   "metadata": {},
   "outputs": [],
   "source": [
    "tok_fn = mmgTokenizer.from_df(text_cols='doc', res_col_name='doc',\n",
    "                     tok_func=mmgSentencePieceTokenizer, \n",
    "                     model_type='bpe', \n",
    "                     special_toks=all_special_toks, \n",
    "                     max_vocab_sz=20000\n",
    "                    ) "
   ]
  },
  {
   "cell_type": "code",
   "execution_count": 15,
   "metadata": {},
   "outputs": [],
   "source": [
    "bs=128\n",
    "sl = 72\n",
    "\n",
    "splits = [list(range_of(trn_df)), list(range(len(trn_df), len(all_df)))]\n",
    "tfms = [attrgetter('doc'), tok_fn, Numericalize()]   # Load pretrained model's vocab\n",
    "## ERROR: https://github.com/google/sentencepiece/issues/297\n",
    "## https://github.com/google/sentencepiece/issues/226\n",
    "\n",
    "lmdsets = Datasets(all_df, [tfms], splits=splits, dl_type=LMDataLoader)"
   ]
  },
  {
   "cell_type": "code",
   "execution_count": 14,
   "metadata": {},
   "outputs": [],
   "source": [
    "lmdls = lmdsets.dataloaders(bs=bs, seq_len=sl, device='cuda')"
   ]
  },
  {
   "cell_type": "code",
   "execution_count": 16,
   "metadata": {
    "scrolled": true
   },
   "outputs": [
    {
     "data": {
      "text/html": [
       "<table border=\"1\" class=\"dataframe\">\n",
       "  <thead>\n",
       "    <tr style=\"text-align: right;\">\n",
       "      <th></th>\n",
       "      <th>text</th>\n",
       "      <th>text_</th>\n",
       "    </tr>\n",
       "  </thead>\n",
       "  <tbody>\n",
       "    <tr>\n",
       "      <th>0</th>\n",
       "      <td>▁xxbos ▁xxqts ▁xxmaj ▁how ▁to ▁enable ▁datagridview ▁sorting ▁when ▁user ▁clicks ▁on ▁the ▁column ▁header ? ▁xxqte ▁xxqbs ▁i ▁have ▁a ▁datagridview ▁on ▁my ▁form ▁and ▁i ▁populate ▁it ▁with ▁this : ▁xxnpg ▁xxnpg ▁datagridview 1. datasource ▁= ▁students . select ( s ▁=&gt; ▁new ▁{ ▁xxup ▁id ▁= ▁s . student id , ▁xxup ▁r ude ▁= ▁s . r ude , ▁xxmaj ▁nom bre ▁= ▁s . name , ▁xxmaj</td>\n",
       "      <td>▁xxqts ▁xxmaj ▁how ▁to ▁enable ▁datagridview ▁sorting ▁when ▁user ▁clicks ▁on ▁the ▁column ▁header ? ▁xxqte ▁xxqbs ▁i ▁have ▁a ▁datagridview ▁on ▁my ▁form ▁and ▁i ▁populate ▁it ▁with ▁this : ▁xxnpg ▁xxnpg ▁datagridview 1. datasource ▁= ▁students . select ( s ▁=&gt; ▁new ▁{ ▁xxup ▁id ▁= ▁s . student id , ▁xxup ▁r ude ▁= ▁s . r ude , ▁xxmaj ▁nom bre ▁= ▁s . name , ▁xxmaj ▁a</td>\n",
       "    </tr>\n",
       "    <tr>\n",
       "      <th>1</th>\n",
       "      <td>▁is ▁the ▁final ▁solution ▁i ▁used ▁after ▁taking ▁@ andy ' s ▁code , ▁and ▁modifying ▁it ▁a ▁bit . ▁xxnpg ▁xxnpg ▁function ▁range array tostring ($ range array , ▁$ max ▁= ▁99 ) ▁{ ▁xxnpg ▁sort ($ range array ); ▁xxnpg ▁$ first ▁= ▁$ last ▁= ▁null ; ▁xxnpg ▁$ output ▁= ▁array (); ▁xxnpg ▁xxnpg ▁foreach ▁($ range array ▁as ▁$ item ) ▁{ ▁xxnpg ▁if ▁($ first</td>\n",
       "      <td>▁the ▁final ▁solution ▁i ▁used ▁after ▁taking ▁@ andy ' s ▁code , ▁and ▁modifying ▁it ▁a ▁bit . ▁xxnpg ▁xxnpg ▁function ▁range array tostring ($ range array , ▁$ max ▁= ▁99 ) ▁{ ▁xxnpg ▁sort ($ range array ); ▁xxnpg ▁$ first ▁= ▁$ last ▁= ▁null ; ▁xxnpg ▁$ output ▁= ▁array (); ▁xxnpg ▁xxnpg ▁foreach ▁($ range array ▁as ▁$ item ) ▁{ ▁xxnpg ▁if ▁($ first ▁xxrep</td>\n",
       "    </tr>\n",
       "    <tr>\n",
       "      <th>2</th>\n",
       "      <td>▁ark ans an ▁xxmaj ▁ark ans aw yer ▁, ▁xxmaj ▁ark ie ▁xxmaj ▁california ▁xxmaj ▁californ ian ▁xxmaj ▁californ io ▁( ▁arch aic ▁) ▁xxmaj ▁colorado ▁xxmaj ▁color ad an ▁xxmaj ▁colorado an ▁( ▁arch aic ▁) ▁xxmaj ▁connecticut ▁xxmaj ▁connecticut er ▁xxmaj ▁connect ic ot ian ▁, ▁xxmaj ▁connecticut ens ian ▁, ▁xxmaj ▁nut me g ▁, ▁xxmaj ▁nut me g ger ▁xxmaj ▁delaware ▁xxmaj ▁delaware an ▁xxmaj ▁blue ▁xxmaj ▁hen</td>\n",
       "      <td>ans an ▁xxmaj ▁ark ans aw yer ▁, ▁xxmaj ▁ark ie ▁xxmaj ▁california ▁xxmaj ▁californ ian ▁xxmaj ▁californ io ▁( ▁arch aic ▁) ▁xxmaj ▁colorado ▁xxmaj ▁color ad an ▁xxmaj ▁colorado an ▁( ▁arch aic ▁) ▁xxmaj ▁connecticut ▁xxmaj ▁connecticut er ▁xxmaj ▁connect ic ot ian ▁, ▁xxmaj ▁connecticut ens ian ▁, ▁xxmaj ▁nut me g ▁, ▁xxmaj ▁nut me g ger ▁xxmaj ▁delaware ▁xxmaj ▁delaware an ▁xxmaj ▁blue ▁xxmaj ▁hen ▁'</td>\n",
       "    </tr>\n",
       "    <tr>\n",
       "      <th>3</th>\n",
       "      <td>▁the ▁night cl ub ▁is ▁prof itable ▁; ▁the ▁xxmaj ▁chinese ▁opera ▁is ▁not ▁. ▁xxmaj ▁me i - li ▁joins ▁the ▁opera ▁company ▁( ▁\" ▁i ▁xxmaj ▁am ▁xxmaj ▁going ▁to ▁xxmaj ▁like ▁xxmaj ▁it ▁xxmaj ▁here ▁\" ▁) ▁and ▁is ▁soon ▁attracted ▁to ▁the ▁ind if ferent ▁xxmaj ▁ta ▁, ▁who ▁fav ors ▁xxmaj ▁linda ▁. ▁xxmaj ▁me i - li ▁is ▁fasc inated ▁by ▁xxmaj ▁linda ▁, ▁who ▁ur</td>\n",
       "      <td>▁night cl ub ▁is ▁prof itable ▁; ▁the ▁xxmaj ▁chinese ▁opera ▁is ▁not ▁. ▁xxmaj ▁me i - li ▁joins ▁the ▁opera ▁company ▁( ▁\" ▁i ▁xxmaj ▁am ▁xxmaj ▁going ▁to ▁xxmaj ▁like ▁xxmaj ▁it ▁xxmaj ▁here ▁\" ▁) ▁and ▁is ▁soon ▁attracted ▁to ▁the ▁ind if ferent ▁xxmaj ▁ta ▁, ▁who ▁fav ors ▁xxmaj ▁linda ▁. ▁xxmaj ▁me i - li ▁is ▁fasc inated ▁by ▁xxmaj ▁linda ▁, ▁who ▁ur ges</td>\n",
       "    </tr>\n",
       "    <tr>\n",
       "      <th>4</th>\n",
       "      <td>▁the ▁xxmaj ▁scr anton ▁xxmaj ▁str ang ler ▁trial ▁, ▁leading ▁the ▁corporate ▁office ▁to ▁send ▁xxmaj ▁holly ▁xxmaj ▁fl ax ▁( ▁xxmaj ▁amy ▁xxmaj ▁ryan ▁) ▁to ▁cover ▁for ▁him ▁. ▁xxmaj ▁michael ▁forces ▁xxmaj ▁pam ▁xxmaj ▁hal pert ▁( ▁xxmaj ▁jenna ▁xxmaj ▁fis cher ▁) ▁to ▁plan ▁a ▁second ▁, ▁class ier ▁xxmaj ▁christmas ▁party ▁on ▁the ▁day ▁xxmaj ▁holly ▁returns ▁to ▁xxmaj ▁scr anton ▁. ▁xxmaj ▁michael ▁wel comes</td>\n",
       "      <td>▁xxmaj ▁scr anton ▁xxmaj ▁str ang ler ▁trial ▁, ▁leading ▁the ▁corporate ▁office ▁to ▁send ▁xxmaj ▁holly ▁xxmaj ▁fl ax ▁( ▁xxmaj ▁amy ▁xxmaj ▁ryan ▁) ▁to ▁cover ▁for ▁him ▁. ▁xxmaj ▁michael ▁forces ▁xxmaj ▁pam ▁xxmaj ▁hal pert ▁( ▁xxmaj ▁jenna ▁xxmaj ▁fis cher ▁) ▁to ▁plan ▁a ▁second ▁, ▁class ier ▁xxmaj ▁christmas ▁party ▁on ▁the ▁day ▁xxmaj ▁holly ▁returns ▁to ▁xxmaj ▁scr anton ▁. ▁xxmaj ▁michael ▁wel comes ▁xxmaj</td>\n",
       "    </tr>\n",
       "    <tr>\n",
       "      <th>5</th>\n",
       "      <td>▁world ▁' s ▁xxmaj ▁best ▁xxmaj ▁cola ▁! ▁'' ▁`` ▁xxmaj ▁g att ai ▁- ▁xxmaj ▁w aza ▁xxmaj ▁s ak ure ts u ▁! ▁xxmaj ▁se k ai ich i ▁no ▁xxmaj ▁k ō ra ▁xxmaj ▁it ad ak im as u ▁'' ▁( ▁ 合体 ▁ 技 ▁ 炸裂 ▁! ▁ 世 界 ▁ 一 ▁ の ▁ コ ー ラ ▁ い た だ き ▁ ま す ▁!</td>\n",
       "      <td>▁' s ▁xxmaj ▁best ▁xxmaj ▁cola ▁! ▁'' ▁`` ▁xxmaj ▁g att ai ▁- ▁xxmaj ▁w aza ▁xxmaj ▁s ak ure ts u ▁! ▁xxmaj ▁se k ai ich i ▁no ▁xxmaj ▁k ō ra ▁xxmaj ▁it ad ak im as u ▁'' ▁( ▁ 合体 ▁ 技 ▁ 炸裂 ▁! ▁ 世 界 ▁ 一 ▁ の ▁ コ ー ラ ▁ い た だ き ▁ ま す ▁! ▁)</td>\n",
       "    </tr>\n",
       "    <tr>\n",
       "      <th>6</th>\n",
       "      <td>▁lived ▁with ▁xxmaj ▁bal z ac ▁' s ▁mother ▁for ▁a ▁time ▁after ▁his ▁death ▁, ▁in ▁the ▁house ▁he ▁had ▁spent ▁so ▁much ▁time ▁and ▁exp ense ▁f urn ish ing ▁. ▁xxmaj ▁the ▁elder ▁xxmaj ▁m me . ▁xxmaj ▁bal z ac ▁moved ▁in ▁with ▁a ▁friend ▁after ▁several ▁months ▁, ▁and ▁xxmaj ▁ha ń s ka ▁appro ached ▁the ▁remains ▁of ▁her ▁late ▁husband ▁' s ▁writing ▁. ▁xxmaj</td>\n",
       "      <td>▁with ▁xxmaj ▁bal z ac ▁' s ▁mother ▁for ▁a ▁time ▁after ▁his ▁death ▁, ▁in ▁the ▁house ▁he ▁had ▁spent ▁so ▁much ▁time ▁and ▁exp ense ▁f urn ish ing ▁. ▁xxmaj ▁the ▁elder ▁xxmaj ▁m me . ▁xxmaj ▁bal z ac ▁moved ▁in ▁with ▁a ▁friend ▁after ▁several ▁months ▁, ▁and ▁xxmaj ▁ha ń s ka ▁appro ached ▁the ▁remains ▁of ▁her ▁late ▁husband ▁' s ▁writing ▁. ▁xxmaj ▁several</td>\n",
       "    </tr>\n",
       "    <tr>\n",
       "      <th>7</th>\n",
       "      <td>▁y . a . ▁xxmaj ▁tit tle ▁( ▁5 ▁) ▁1951 ▁xxmaj ▁frankie ▁xxmaj ▁albert ▁( ▁11 ▁) ▁/ ▁xxup ▁y . a . ▁xxmaj ▁tit tle ▁( ▁1 ▁) ▁1950 ▁xxmaj ▁frankie ▁xxmaj ▁albert ▁( ▁12 ▁) ▁1949 ▁xxmaj ▁frankie ▁xxmaj ▁albert ▁1948 ▁xxmaj ▁frankie ▁xxmaj ▁albert ▁1947 ▁xxmaj ▁frankie ▁xxmaj ▁albert ▁1946 ▁xxmaj ▁frankie ▁xxmaj ▁albert ▁xxane ▁xxbos ▁xxqbs ▁what ▁was ▁the ▁number ▁one ▁song ▁on ▁august ▁3 ▁1984 ?</td>\n",
       "      <td>. a . ▁xxmaj ▁tit tle ▁( ▁5 ▁) ▁1951 ▁xxmaj ▁frankie ▁xxmaj ▁albert ▁( ▁11 ▁) ▁/ ▁xxup ▁y . a . ▁xxmaj ▁tit tle ▁( ▁1 ▁) ▁1950 ▁xxmaj ▁frankie ▁xxmaj ▁albert ▁( ▁12 ▁) ▁1949 ▁xxmaj ▁frankie ▁xxmaj ▁albert ▁1948 ▁xxmaj ▁frankie ▁xxmaj ▁albert ▁1947 ▁xxmaj ▁frankie ▁xxmaj ▁albert ▁1946 ▁xxmaj ▁frankie ▁xxmaj ▁albert ▁xxane ▁xxbos ▁xxqbs ▁what ▁was ▁the ▁number ▁one ▁song ▁on ▁august ▁3 ▁1984 ? ▁xxqbe</td>\n",
       "    </tr>\n",
       "    <tr>\n",
       "      <th>8</th>\n",
       "      <td>vent ry ▁xxmaj ▁city ▁xxmaj ▁ever ton ▁xxmaj ▁high field ▁xxmaj ▁road ▁xxmaj ▁first ▁xxmaj ▁division ▁3 ▁xxmaj ▁october ▁1970 ▁xxmaj ▁barry ▁xxmaj ▁davies ▁1971 ▁-- ▁72 ▁xxmaj ▁ronnie ▁xxmaj ▁rad ford ▁xxmaj ▁england ▁xxmaj ▁here ford ▁xxmaj ▁united ▁xxmaj ▁newcastle ▁xxmaj ▁united ▁xxmaj ▁edgar ▁xxmaj ▁street ▁xxup ▁fa ▁xxmaj ▁cup ▁5 ▁xxmaj ▁february ▁1972 ▁xxmaj ▁john ▁xxmaj ▁mot son ▁1972 ▁-- ▁73 ▁xxmaj ▁peter ▁xxmaj ▁os good ▁xxmaj ▁england ▁xxmaj ▁chelsea</td>\n",
       "      <td>ry ▁xxmaj ▁city ▁xxmaj ▁ever ton ▁xxmaj ▁high field ▁xxmaj ▁road ▁xxmaj ▁first ▁xxmaj ▁division ▁3 ▁xxmaj ▁october ▁1970 ▁xxmaj ▁barry ▁xxmaj ▁davies ▁1971 ▁-- ▁72 ▁xxmaj ▁ronnie ▁xxmaj ▁rad ford ▁xxmaj ▁england ▁xxmaj ▁here ford ▁xxmaj ▁united ▁xxmaj ▁newcastle ▁xxmaj ▁united ▁xxmaj ▁edgar ▁xxmaj ▁street ▁xxup ▁fa ▁xxmaj ▁cup ▁5 ▁xxmaj ▁february ▁1972 ▁xxmaj ▁john ▁xxmaj ▁mot son ▁1972 ▁-- ▁73 ▁xxmaj ▁peter ▁xxmaj ▁os good ▁xxmaj ▁england ▁xxmaj ▁chelsea ▁xxmaj</td>\n",
       "    </tr>\n",
       "  </tbody>\n",
       "</table>"
      ],
      "text/plain": [
       "<IPython.core.display.HTML object>"
      ]
     },
     "metadata": {},
     "output_type": "display_data"
    }
   ],
   "source": [
    "lmdls.show_batch()"
   ]
  },
  {
   "cell_type": "markdown",
   "metadata": {},
   "source": [
    "# AWD_LSTM - LM Model\n",
    "\n",
    "The main idea of the article is to use a RNN with dropout everywhere, but in an intelligent way. There is a difference with the usual dropout, which is why you’ll see a RNNDropout module: we zero things, as is usual in dropout, but we always zero the same thing according to the sequence dimension (which is the first dimension in pytorch). This ensures consistency when updating the hidden state through the whole sentences/articles.\n",
    "\n",
    "This being given, there are a total four different dropouts in the encoder of the AWD-LSTM:\n",
    "\n",
    "the first one, embedding dropout, is applied when we look the ids of our tokens inside the embedding matrix (to transform them from numbers to a vector of float). We zero some lines of it, so random ids are sent to a vector of zeros instead of being sent to their embedding vector. This is the `embed_p` parameter.\n",
    "\n",
    "the second one, input dropout, is applied to the result of the embedding with dropout. We forget random pieces of the embedding matrix (but as stated in the last paragraph, the same ones in the sequence dimension). This is the `input_p` parameter.\n",
    "\n",
    "the third one is the weight dropout. It’s the trickiest to implement as we randomly replace by 0s some weights of the hidden-to-hidden matrix inside the RNN: this needs to be done in a way that ensure the gradients are still computed and the initial weights still updated. This is the `weight_p` parameter.\n",
    "\n",
    "\n",
    "the fourth one is the hidden dropout. It’s applied to the output of one of the layers of the RNN before it’s used as input of the next layer (again same coordinates are zeroed in the sequence dimension). It isn’t applied to the last output (which will get its own dropout in the decoder).This is the `hidden_p` parameter.\n",
    "\n",
    "The other attributes are vocab_sz for the number of tokens in your vocabulary, emb_sz for the embedding size, n_hid for the hidden size of your inner LSTMs (or QRNNs), n_layers the number of layers and pad_token for the index of an eventual padding token (1 by default in fastai)."
   ]
  },
  {
   "cell_type": "markdown",
   "metadata": {},
   "source": [
    "{‘emb_sz’: 400, ‘n_hid’: 1152, ‘n_layers’: 3, ‘pad_token’: 1, ‘qrnn’: False, ‘bidir’: False, ‘output_p’: 0.1, ‘hidden_p’: 0.15, ‘input_p’: 0.25, ‘embed_p’: 0.02, \n",
    " ‘weight_p’: 0.2, ‘tie_weights’: True, ‘out_bias’: True}"
   ]
  },
  {
   "cell_type": "code",
   "execution_count": 17,
   "metadata": {},
   "outputs": [
    {
     "data": {
      "text/plain": [
       "{'emb_sz': 400,\n",
       " 'n_hid': 1152,\n",
       " 'n_layers': 3,\n",
       " 'pad_token': 1,\n",
       " 'bidir': False,\n",
       " 'output_p': 0.1,\n",
       " 'hidden_p': 0.15,\n",
       " 'input_p': 0.25,\n",
       " 'embed_p': 0.02,\n",
       " 'weight_p': 0.2,\n",
       " 'tie_weights': True,\n",
       " 'out_bias': True}"
      ]
     },
     "execution_count": 17,
     "metadata": {},
     "output_type": "execute_result"
    }
   ],
   "source": [
    "awd_lstm_lm_config"
   ]
  },
  {
   "cell_type": "code",
   "execution_count": 32,
   "metadata": {},
   "outputs": [],
   "source": [
    "large_config = awd_lstm_lm_config.copy()\n",
    "large_config['n_layers'] = 4\n",
    "large_config['n_hid'] = 1500\n",
    "large_config['emb_sz'] = 500\n",
    "#config['input_p'] = 0.07\n",
    "# # From docs:\n",
    "# config.update({'input_p': 0.6, 'output_p': 0.4, 'weight_p': 0.5, 'embed_p': 0.1, 'hidden_p': 0.2})\n",
    "# config"
   ]
  },
  {
   "cell_type": "code",
   "execution_count": 49,
   "metadata": {},
   "outputs": [],
   "source": [
    "#opt_func = partial(Adam, wd=0.1, eps=1e-7)\n",
    "\n",
    "from ranger import Ranger\n",
    "\n",
    "#optar=partial(RangerQH,nus=(.70,1.0),betas=(0.92, 0.999),eps=1e-6)\n",
    "def optfunc(p, lr=defaults.lr): return Lookahead(RAdam(p, lr=lr))\n",
    "\n",
    "cb_funcs = [MixedPrecision(clip=0.1), ModelReseter, RNNRegularizer(alpha=2, beta=1)]"
   ]
  },
  {
   "cell_type": "code",
   "execution_count": 51,
   "metadata": {},
   "outputs": [],
   "source": [
    "lmmodel = get_language_model(AWD_LSTM, vocab_sz=len(lmdls.vocab), config=large_config)"
   ]
  },
  {
   "cell_type": "code",
   "execution_count": 52,
   "metadata": {},
   "outputs": [],
   "source": [
    "lmlearn = Learner(dls=lmdls, model=lmmodel, \n",
    "                  loss_func=CrossEntropyLossFlat(), \n",
    "                opt_func=optfunc, \n",
    "                cbs=[MixedPrecision(clip=0.1), ModelReseter, RNNRegularizer(alpha=2, beta=1),SaveModelCallback()],\n",
    "                metrics=[accuracy, Perplexity()])"
   ]
  },
  {
   "cell_type": "code",
   "execution_count": 45,
   "metadata": {},
   "outputs": [],
   "source": [
    "# lm_model = get_language_model(AWD_LSTM, vocab_sz=len(lmdls.vocab), config=awd_lstm_lm_config)\n",
    "\n",
    "# lm_cbs = [MixedPrecision(clip=0.1), ModelReseter, RNNRegularizer(alpha=2, beta=1)]\n",
    "\n",
    "# lm_learn = Learner(dls=lmdls, model=lm_model, loss_func=CrossEntropyLossFlat(), \n",
    "#                 opt_func=optfunc, cbs=cb_funcs,\n",
    "#                 metrics=[accuracy, Perplexity()])"
   ]
  },
  {
   "cell_type": "code",
   "execution_count": 53,
   "metadata": {},
   "outputs": [
    {
     "name": "stdout",
     "output_type": "stream",
     "text": [
      "Start Fit\n",
      "   - begin_fit      : [TrainEvalCallback, Recorder, ProgressCallback, SaveModelCallback, MixedPrecision]\n",
      "  Start Epoch Loop\n",
      "     - begin_epoch    : [Recorder, ProgressCallback]\n",
      "    Start Train\n",
      "       - begin_train    : [TrainEvalCallback, Recorder, ProgressCallback, ModelReseter]\n",
      "      Start Batch Loop\n",
      "         - begin_batch    : [MixedPrecision]\n",
      "         - after_pred     : [RNNRegularizer, MixedPrecision]\n",
      "         - after_loss     : [RNNRegularizer, MixedPrecision]\n",
      "         - after_backward : [MixedPrecision]\n",
      "         - after_step     : [MixedPrecision]\n",
      "         - after_cancel_batch: []\n",
      "         - after_batch    : [TrainEvalCallback, Recorder, ProgressCallback]\n",
      "      End Batch Loop\n",
      "    End Train\n",
      "     - after_cancel_train: [Recorder]\n",
      "     - after_train    : [Recorder, ProgressCallback]\n",
      "    Start Valid\n",
      "       - begin_validate : [TrainEvalCallback, Recorder, ProgressCallback, ModelReseter]\n",
      "      Start Batch Loop\n",
      "         - **CBs same as train batch**: []\n",
      "      End Batch Loop\n",
      "    End Valid\n",
      "     - after_cancel_validate: [Recorder]\n",
      "     - after_validate : [Recorder, ProgressCallback]\n",
      "  End Epoch Loop\n",
      "   - after_cancel_epoch: []\n",
      "   - after_epoch    : [Recorder, SaveModelCallback]\n",
      "End Fit\n",
      " - after_cancel_fit: []\n",
      " - after_fit      : [ProgressCallback, SaveModelCallback, MixedPrecision]\n"
     ]
    }
   ],
   "source": [
    "lmlearn.show_training_loop()"
   ]
  },
  {
   "cell_type": "code",
   "execution_count": 55,
   "metadata": {},
   "outputs": [
    {
     "data": {
      "text/html": [],
      "text/plain": [
       "<IPython.core.display.HTML object>"
      ]
     },
     "metadata": {},
     "output_type": "display_data"
    },
    {
     "data": {
      "text/plain": [
       "(0.05248074531555176, 0.03981071710586548)"
      ]
     },
     "execution_count": 55,
     "metadata": {},
     "output_type": "execute_result"
    },
    {
     "data": {
      "image/png": "[encoded data removed]",
      "text/plain": [
       "<Figure size 432x288 with 1 Axes>"
      ]
     },
     "metadata": {
      "needs_background": "light"
     },
     "output_type": "display_data"
    }
   ],
   "source": [
    "#learn.model.cuda()\n",
    "lmlearn.lr_find(suggestions=True)"
   ]
  },
  {
   "cell_type": "code",
   "execution_count": 57,
   "metadata": {},
   "outputs": [
    {
     "data": {
      "text/plain": [
       "<matplotlib.collections.LineCollection at 0x7f83758d5ad0>"
      ]
     },
     "execution_count": 57,
     "metadata": {},
     "output_type": "execute_result"
    },
    {
     "data": {
      "image/png": "[encoded data removed]",
      "text/plain": [
       "<Figure size 432x288 with 1 Axes>"
      ]
     },
     "metadata": {
      "needs_background": "light"
     },
     "output_type": "display_data"
    }
   ],
   "source": [
    "lmlearn.recorder.plot_lr_find()\n",
    "plt.vlines(0.05248, 8.5, 10)\n",
    "plt.vlines(0.039810, 8.5, 10)"
   ]
  },
  {
   "cell_type": "code",
   "execution_count": 61,
   "metadata": {
    "scrolled": true
   },
   "outputs": [
    {
     "data": {
      "text/html": [
       "<table border=\"1\" class=\"dataframe\">\n",
       "  <thead>\n",
       "    <tr style=\"text-align: left;\">\n",
       "      <th>epoch</th>\n",
       "      <th>train_loss</th>\n",
       "      <th>valid_loss</th>\n",
       "      <th>accuracy</th>\n",
       "      <th>perplexity</th>\n",
       "      <th>time</th>\n",
       "    </tr>\n",
       "  </thead>\n",
       "  <tbody>\n",
       "    <tr>\n",
       "      <td>0</td>\n",
       "      <td>nan</td>\n",
       "      <td>3.826343</td>\n",
       "      <td>0.343878</td>\n",
       "      <td>45.894409</td>\n",
       "      <td>2:14:03</td>\n",
       "    </tr>\n",
       "    <tr>\n",
       "      <td>1</td>\n",
       "      <td>nan</td>\n",
       "      <td>3.540510</td>\n",
       "      <td>0.372675</td>\n",
       "      <td>34.484493</td>\n",
       "      <td>2:14:20</td>\n",
       "    </tr>\n",
       "    <tr>\n",
       "      <td>2</td>\n",
       "      <td>nan</td>\n",
       "      <td>3.412912</td>\n",
       "      <td>0.387074</td>\n",
       "      <td>30.353510</td>\n",
       "      <td>2:16:14</td>\n",
       "    </tr>\n",
       "    <tr>\n",
       "      <td>3</td>\n",
       "      <td>nan</td>\n",
       "      <td>3.330651</td>\n",
       "      <td>0.396612</td>\n",
       "      <td>27.956524</td>\n",
       "      <td>2:13:48</td>\n",
       "    </tr>\n",
       "    <tr>\n",
       "      <td>4</td>\n",
       "      <td>nan</td>\n",
       "      <td>3.253711</td>\n",
       "      <td>0.405923</td>\n",
       "      <td>25.886219</td>\n",
       "      <td>2:13:58</td>\n",
       "    </tr>\n",
       "    <tr>\n",
       "      <td>5</td>\n",
       "      <td>nan</td>\n",
       "      <td>3.187689</td>\n",
       "      <td>0.415116</td>\n",
       "      <td>24.232351</td>\n",
       "      <td>2:14:55</td>\n",
       "    </tr>\n",
       "    <tr>\n",
       "      <td>6</td>\n",
       "      <td>nan</td>\n",
       "      <td>3.167228</td>\n",
       "      <td>0.418152</td>\n",
       "      <td>23.741570</td>\n",
       "      <td>2:14:00</td>\n",
       "    </tr>\n",
       "  </tbody>\n",
       "</table>"
      ],
      "text/plain": [
       "<IPython.core.display.HTML object>"
      ]
     },
     "metadata": {},
     "output_type": "display_data"
    },
    {
     "name": "stderr",
     "output_type": "stream",
     "text": [
      "IOPub message rate exceeded.\n",
      "The notebook server will temporarily stop sending output\n",
      "to the client in order to avoid crashing it.\n",
      "To change this limit, set the config variable\n",
      "`--NotebookApp.iopub_msg_rate_limit`.\n",
      "\n",
      "Current values:\n",
      "NotebookApp.iopub_msg_rate_limit=1000.0 (msgs/sec)\n",
      "NotebookApp.rate_limit_window=3.0 (secs)\n",
      "\n",
      "IOPub message rate exceeded.\n",
      "The notebook server will temporarily stop sending output\n",
      "to the client in order to avoid crashing it.\n",
      "To change this limit, set the config variable\n",
      "`--NotebookApp.iopub_msg_rate_limit`.\n",
      "\n",
      "Current values:\n",
      "NotebookApp.iopub_msg_rate_limit=1000.0 (msgs/sec)\n",
      "NotebookApp.rate_limit_window=3.0 (secs)\n",
      "\n",
      "IOPub message rate exceeded.\n",
      "The notebook server will temporarily stop sending output\n",
      "to the client in order to avoid crashing it.\n",
      "To change this limit, set the config variable\n",
      "`--NotebookApp.iopub_msg_rate_limit`.\n",
      "\n",
      "Current values:\n",
      "NotebookApp.iopub_msg_rate_limit=1000.0 (msgs/sec)\n",
      "NotebookApp.rate_limit_window=3.0 (secs)\n",
      "\n",
      "IOPub message rate exceeded.\n",
      "The notebook server will temporarily stop sending output\n",
      "to the client in order to avoid crashing it.\n",
      "To change this limit, set the config variable\n",
      "`--NotebookApp.iopub_msg_rate_limit`.\n",
      "\n",
      "Current values:\n",
      "NotebookApp.iopub_msg_rate_limit=1000.0 (msgs/sec)\n",
      "NotebookApp.rate_limit_window=3.0 (secs)\n",
      "\n",
      "IOPub message rate exceeded.\n",
      "The notebook server will temporarily stop sending output\n",
      "to the client in order to avoid crashing it.\n",
      "To change this limit, set the config variable\n",
      "`--NotebookApp.iopub_msg_rate_limit`.\n",
      "\n",
      "Current values:\n",
      "NotebookApp.iopub_msg_rate_limit=1000.0 (msgs/sec)\n",
      "NotebookApp.rate_limit_window=3.0 (secs)\n",
      "\n"
     ]
    }
   ],
   "source": [
    "# fit_flat_cos(self:Learner, n_epoch, lr=None, div_final=1e5, pct_start=0.75, wd=defaults.wd,\n",
    "#                  cbs=None, reset_opt=False):\n",
    "# moms=(0.8,0.7,0.8)\n",
    "lmlearn.fit_flat_cos(7, 2e-3, pct_start=0.5)"
   ]
  },
  {
   "cell_type": "code",
   "execution_count": 62,
   "metadata": {},
   "outputs": [],
   "source": [
    "lmlearn.save(f'lm_large_7e_2e-3_ffc_{date.today()}')"
   ]
  },
  {
   "cell_type": "code",
   "execution_count": 63,
   "metadata": {},
   "outputs": [],
   "source": [
    "with open(f'lm_large_7e_2e-3_ffc_{date.today()}_vocab', 'wb') as f:\n",
    "    pickle.dump(lmdls.vocab, f)"
   ]
  },
  {
   "cell_type": "code",
   "execution_count": 64,
   "metadata": {},
   "outputs": [
    {
     "data": {
      "image/png": "[encoded data removed]",
      "text/plain": [
       "<Figure size 432x288 with 1 Axes>"
      ]
     },
     "metadata": {
      "needs_background": "light"
     },
     "output_type": "display_data"
    }
   ],
   "source": [
    "lmlearn.recorder.plot_loss()"
   ]
  },
  {
   "cell_type": "code",
   "execution_count": 65,
   "metadata": {},
   "outputs": [
    {
     "ename": "AttributeError",
     "evalue": "hps",
     "output_type": "error",
     "traceback": [
      "\u001b[0;31m---------------------------------------------------------------------------\u001b[0m",
      "\u001b[0;31mAttributeError\u001b[0m                            Traceback (most recent call last)",
      "\u001b[0;32m<ipython-input-65-6e36a01e4de9>\u001b[0m in \u001b[0;36m<module>\u001b[0;34m\u001b[0m\n\u001b[0;32m----> 1\u001b[0;31m \u001b[0mlm_learn\u001b[0m\u001b[0;34m.\u001b[0m\u001b[0mrecorder\u001b[0m\u001b[0;34m.\u001b[0m\u001b[0mplot_sched\u001b[0m\u001b[0;34m(\u001b[0m\u001b[0;34m)\u001b[0m\u001b[0;34m\u001b[0m\u001b[0;34m\u001b[0m\u001b[0m\n\u001b[0m",
      "\u001b[0;32m~/fastai2/fastai2/callback/schedule.py\u001b[0m in \u001b[0;36mplot_sched\u001b[0;34m(self, keys, figsize)\u001b[0m\n\u001b[1;32m     93\u001b[0m \u001b[0;34m@\u001b[0m\u001b[0mpatch\u001b[0m\u001b[0;34m\u001b[0m\u001b[0;34m\u001b[0m\u001b[0m\n\u001b[1;32m     94\u001b[0m \u001b[0;32mdef\u001b[0m \u001b[0mplot_sched\u001b[0m\u001b[0;34m(\u001b[0m\u001b[0mself\u001b[0m\u001b[0;34m:\u001b[0m\u001b[0mRecorder\u001b[0m\u001b[0;34m,\u001b[0m \u001b[0mkeys\u001b[0m\u001b[0;34m=\u001b[0m\u001b[0;32mNone\u001b[0m\u001b[0;34m,\u001b[0m \u001b[0mfigsize\u001b[0m\u001b[0;34m=\u001b[0m\u001b[0;32mNone\u001b[0m\u001b[0;34m)\u001b[0m\u001b[0;34m:\u001b[0m\u001b[0;34m\u001b[0m\u001b[0;34m\u001b[0m\u001b[0m\n\u001b[0;32m---> 95\u001b[0;31m     \u001b[0mkeys\u001b[0m \u001b[0;34m=\u001b[0m \u001b[0mself\u001b[0m\u001b[0;34m.\u001b[0m\u001b[0mhps\u001b[0m\u001b[0;34m.\u001b[0m\u001b[0mkeys\u001b[0m\u001b[0;34m(\u001b[0m\u001b[0;34m)\u001b[0m \u001b[0;32mif\u001b[0m \u001b[0mkeys\u001b[0m \u001b[0;32mis\u001b[0m \u001b[0;32mNone\u001b[0m \u001b[0;32melse\u001b[0m \u001b[0mL\u001b[0m\u001b[0;34m(\u001b[0m\u001b[0mkeys\u001b[0m\u001b[0;34m)\u001b[0m\u001b[0;34m\u001b[0m\u001b[0;34m\u001b[0m\u001b[0m\n\u001b[0m\u001b[1;32m     96\u001b[0m     \u001b[0mrows\u001b[0m\u001b[0;34m,\u001b[0m\u001b[0mcols\u001b[0m \u001b[0;34m=\u001b[0m \u001b[0;34m(\u001b[0m\u001b[0mlen\u001b[0m\u001b[0;34m(\u001b[0m\u001b[0mkeys\u001b[0m\u001b[0;34m)\u001b[0m\u001b[0;34m+\u001b[0m\u001b[0;36m1\u001b[0m\u001b[0;34m)\u001b[0m\u001b[0;34m//\u001b[0m\u001b[0;36m2\u001b[0m\u001b[0;34m,\u001b[0m \u001b[0mmin\u001b[0m\u001b[0;34m(\u001b[0m\u001b[0;36m2\u001b[0m\u001b[0;34m,\u001b[0m \u001b[0mlen\u001b[0m\u001b[0;34m(\u001b[0m\u001b[0mkeys\u001b[0m\u001b[0;34m)\u001b[0m\u001b[0;34m)\u001b[0m\u001b[0;34m\u001b[0m\u001b[0;34m\u001b[0m\u001b[0m\n\u001b[1;32m     97\u001b[0m     \u001b[0mfigsize\u001b[0m \u001b[0;34m=\u001b[0m \u001b[0mfigsize\u001b[0m \u001b[0;32mor\u001b[0m \u001b[0;34m(\u001b[0m\u001b[0;36m6\u001b[0m\u001b[0;34m*\u001b[0m\u001b[0mcols\u001b[0m\u001b[0;34m,\u001b[0m\u001b[0;36m4\u001b[0m\u001b[0;34m*\u001b[0m\u001b[0mrows\u001b[0m\u001b[0;34m)\u001b[0m\u001b[0;34m\u001b[0m\u001b[0;34m\u001b[0m\u001b[0m\n",
      "\u001b[0;32m~/fastcore/fastcore/foundation.py\u001b[0m in \u001b[0;36m__getattr__\u001b[0;34m(self, k)\u001b[0m\n\u001b[1;32m    221\u001b[0m             \u001b[0mattr\u001b[0m \u001b[0;34m=\u001b[0m \u001b[0mgetattr\u001b[0m\u001b[0;34m(\u001b[0m\u001b[0mself\u001b[0m\u001b[0;34m,\u001b[0m\u001b[0mself\u001b[0m\u001b[0;34m.\u001b[0m\u001b[0m_default\u001b[0m\u001b[0;34m,\u001b[0m\u001b[0;32mNone\u001b[0m\u001b[0;34m)\u001b[0m\u001b[0;34m\u001b[0m\u001b[0;34m\u001b[0m\u001b[0m\n\u001b[1;32m    222\u001b[0m             \u001b[0;32mif\u001b[0m \u001b[0mattr\u001b[0m \u001b[0;32mis\u001b[0m \u001b[0;32mnot\u001b[0m \u001b[0;32mNone\u001b[0m\u001b[0;34m:\u001b[0m \u001b[0;32mreturn\u001b[0m \u001b[0mgetattr\u001b[0m\u001b[0;34m(\u001b[0m\u001b[0mattr\u001b[0m\u001b[0;34m,\u001b[0m \u001b[0mk\u001b[0m\u001b[0;34m)\u001b[0m\u001b[0;34m\u001b[0m\u001b[0;34m\u001b[0m\u001b[0m\n\u001b[0;32m--> 223\u001b[0;31m         \u001b[0;32mraise\u001b[0m \u001b[0mAttributeError\u001b[0m\u001b[0;34m(\u001b[0m\u001b[0mk\u001b[0m\u001b[0;34m)\u001b[0m\u001b[0;34m\u001b[0m\u001b[0;34m\u001b[0m\u001b[0m\n\u001b[0m\u001b[1;32m    224\u001b[0m     \u001b[0;32mdef\u001b[0m \u001b[0m__dir__\u001b[0m\u001b[0;34m(\u001b[0m\u001b[0mself\u001b[0m\u001b[0;34m)\u001b[0m\u001b[0;34m:\u001b[0m \u001b[0;32mreturn\u001b[0m \u001b[0mcustom_dir\u001b[0m\u001b[0;34m(\u001b[0m\u001b[0mself\u001b[0m\u001b[0;34m,\u001b[0m \u001b[0mself\u001b[0m\u001b[0;34m.\u001b[0m\u001b[0m_dir\u001b[0m\u001b[0;34m(\u001b[0m\u001b[0;34m)\u001b[0m \u001b[0;32mif\u001b[0m \u001b[0mself\u001b[0m\u001b[0;34m.\u001b[0m\u001b[0m_xtra\u001b[0m \u001b[0;32mis\u001b[0m \u001b[0;32mNone\u001b[0m \u001b[0;32melse\u001b[0m \u001b[0mself\u001b[0m\u001b[0;34m.\u001b[0m\u001b[0m_dir\u001b[0m\u001b[0;34m(\u001b[0m\u001b[0;34m)\u001b[0m\u001b[0;34m)\u001b[0m\u001b[0;34m\u001b[0m\u001b[0;34m\u001b[0m\u001b[0m\n\u001b[1;32m    225\u001b[0m \u001b[0;31m#     def __getstate__(self): return self.__dict__\u001b[0m\u001b[0;34m\u001b[0m\u001b[0;34m\u001b[0m\u001b[0;34m\u001b[0m\u001b[0m\n",
      "\u001b[0;31mAttributeError\u001b[0m: hps"
     ]
    }
   ],
   "source": [
    "lm_learn.recorder.plot_sched()"
   ]
  }
 ],
 "metadata": {
  "kernelspec": {
   "display_name": "Python 3",
   "language": "python",
   "name": "python3"
  },
  "language_info": {
   "codemirror_mode": {
    "name": "ipython",
    "version": 3
   },
   "file_extension": ".py",
   "mimetype": "text/x-python",
   "name": "python",
   "nbconvert_exporter": "python",
   "pygments_lexer": "ipython3",
   "version": "3.7.6"
  }
 },
 "nbformat": 4,
 "nbformat_minor": 2
}
